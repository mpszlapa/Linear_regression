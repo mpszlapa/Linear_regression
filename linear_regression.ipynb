{
 "cells": [
  {
   "cell_type": "markdown",
   "metadata": {},
   "source": [
    "# ANALIZA DANYCH ZWIĄZANYCH Z WYCENĄ ZAWODNIKÓW PREMIER LEAGUE W SEZONIE 2018/2019 "
   ]
  },
  {
   "cell_type": "markdown",
   "metadata": {},
   "source": [
    "Na podstawie danych, które wcześniej zostały obrobione, niestety nie w Pythonie tylko Excelu(związane to było z tym, że łączyłem ze sobą dane z dwóch źródeł, do każdego zawodnika musiałem dopasować wycenę doszukując po nazwiskach, które nie zawsze do końca się pokrywały, dlatego uznałem to za zbyt ciężkie do wykonania w Pythonie). Dane te zostały zwizualizowany, a przynajmniej ta część, którą uznałem za najbardziej istotną. Dodatkowo wykonałem regresję liniową na załączonych danych. Jeden z problemów na jaki się natknąłem, było sprawdzenie linowej formy funkcyjnej testem Harveya-Colliera. Wyskakiwał mi błąd, dlatego sprawdziłem to za pomocą testu RESET w R, o czym wspomniane jest poniżej."
   ]
  },
  {
   "cell_type": "markdown",
   "metadata": {},
   "source": [
    "Zaimportowano niezbędne biblioteki"
   ]
  },
  {
   "cell_type": "code",
   "execution_count": 118,
   "metadata": {},
   "outputs": [],
   "source": [
    "import pandas as pd\n",
    "import numpy as np\n",
    "import matplotlib.pyplot as plt\n",
    "%matplotlib inline\n",
    "import seaborn as sns\n",
    "from sklearn import preprocessing, svm \n",
    "from sklearn.model_selection import train_test_split \n",
    "from sklearn.linear_model import LinearRegression\n",
    "from pandas import DataFrame\n",
    "from sklearn import linear_model\n",
    "import statsmodels.api as sm\n",
    "from string import ascii_letters\n",
    "import statsmodels.formula.api as smf"
   ]
  },
  {
   "cell_type": "code",
   "execution_count": 119,
   "metadata": {
    "scrolled": true
   },
   "outputs": [
    {
     "data": {
      "text/html": [
       "<div>\n",
       "<style scoped>\n",
       "    .dataframe tbody tr th:only-of-type {\n",
       "        vertical-align: middle;\n",
       "    }\n",
       "\n",
       "    .dataframe tbody tr th {\n",
       "        vertical-align: top;\n",
       "    }\n",
       "\n",
       "    .dataframe thead th {\n",
       "        text-align: right;\n",
       "    }\n",
       "</style>\n",
       "<table border=\"1\" class=\"dataframe\">\n",
       "  <thead>\n",
       "    <tr style=\"text-align: right;\">\n",
       "      <th></th>\n",
       "      <th>market_value</th>\n",
       "      <th>age</th>\n",
       "      <th>position</th>\n",
       "      <th>position_in_league</th>\n",
       "      <th>minutes_played_overall</th>\n",
       "      <th>appearances_overall</th>\n",
       "      <th>goals_overall</th>\n",
       "      <th>assists_overall</th>\n",
       "      <th>clean_sheets_overall</th>\n",
       "      <th>yellow_cards_overall</th>\n",
       "      <th>red_cards_overall</th>\n",
       "    </tr>\n",
       "  </thead>\n",
       "  <tbody>\n",
       "    <tr>\n",
       "      <td>0</td>\n",
       "      <td>1.0</td>\n",
       "      <td>39</td>\n",
       "      <td>Goalkeeper</td>\n",
       "      <td>14</td>\n",
       "      <td>1080</td>\n",
       "      <td>12</td>\n",
       "      <td>0</td>\n",
       "      <td>0</td>\n",
       "      <td>4</td>\n",
       "      <td>2</td>\n",
       "      <td>0</td>\n",
       "    </tr>\n",
       "    <tr>\n",
       "      <td>1</td>\n",
       "      <td>4.0</td>\n",
       "      <td>30</td>\n",
       "      <td>Goalkeeper</td>\n",
       "      <td>13</td>\n",
       "      <td>3420</td>\n",
       "      <td>38</td>\n",
       "      <td>0</td>\n",
       "      <td>0</td>\n",
       "      <td>11</td>\n",
       "      <td>1</td>\n",
       "      <td>0</td>\n",
       "    </tr>\n",
       "    <tr>\n",
       "      <td>2</td>\n",
       "      <td>20.0</td>\n",
       "      <td>27</td>\n",
       "      <td>Goalkeeper</td>\n",
       "      <td>5</td>\n",
       "      <td>2835</td>\n",
       "      <td>32</td>\n",
       "      <td>0</td>\n",
       "      <td>0</td>\n",
       "      <td>7</td>\n",
       "      <td>0</td>\n",
       "      <td>0</td>\n",
       "    </tr>\n",
       "    <tr>\n",
       "      <td>3</td>\n",
       "      <td>8.0</td>\n",
       "      <td>27</td>\n",
       "      <td>Goalkeeper</td>\n",
       "      <td>17</td>\n",
       "      <td>3060</td>\n",
       "      <td>34</td>\n",
       "      <td>0</td>\n",
       "      <td>0</td>\n",
       "      <td>6</td>\n",
       "      <td>2</td>\n",
       "      <td>0</td>\n",
       "    </tr>\n",
       "    <tr>\n",
       "      <td>4</td>\n",
       "      <td>8.0</td>\n",
       "      <td>32</td>\n",
       "      <td>Goalkeeper</td>\n",
       "      <td>14</td>\n",
       "      <td>2160</td>\n",
       "      <td>24</td>\n",
       "      <td>0</td>\n",
       "      <td>0</td>\n",
       "      <td>5</td>\n",
       "      <td>0</td>\n",
       "      <td>0</td>\n",
       "    </tr>\n",
       "    <tr>\n",
       "      <td>...</td>\n",
       "      <td>...</td>\n",
       "      <td>...</td>\n",
       "      <td>...</td>\n",
       "      <td>...</td>\n",
       "      <td>...</td>\n",
       "      <td>...</td>\n",
       "      <td>...</td>\n",
       "      <td>...</td>\n",
       "      <td>...</td>\n",
       "      <td>...</td>\n",
       "      <td>...</td>\n",
       "    </tr>\n",
       "    <tr>\n",
       "      <td>479</td>\n",
       "      <td>5.0</td>\n",
       "      <td>30</td>\n",
       "      <td>Forward</td>\n",
       "      <td>11</td>\n",
       "      <td>22</td>\n",
       "      <td>2</td>\n",
       "      <td>0</td>\n",
       "      <td>0</td>\n",
       "      <td>0</td>\n",
       "      <td>1</td>\n",
       "      <td>0</td>\n",
       "    </tr>\n",
       "    <tr>\n",
       "      <td>480</td>\n",
       "      <td>6.0</td>\n",
       "      <td>32</td>\n",
       "      <td>Forward</td>\n",
       "      <td>19</td>\n",
       "      <td>1260</td>\n",
       "      <td>16</td>\n",
       "      <td>5</td>\n",
       "      <td>3</td>\n",
       "      <td>3</td>\n",
       "      <td>3</td>\n",
       "      <td>0</td>\n",
       "    </tr>\n",
       "    <tr>\n",
       "      <td>481</td>\n",
       "      <td>60.0</td>\n",
       "      <td>31</td>\n",
       "      <td>Forward</td>\n",
       "      <td>3</td>\n",
       "      <td>1092</td>\n",
       "      <td>14</td>\n",
       "      <td>5</td>\n",
       "      <td>0</td>\n",
       "      <td>5</td>\n",
       "      <td>0</td>\n",
       "      <td>0</td>\n",
       "    </tr>\n",
       "    <tr>\n",
       "      <td>482</td>\n",
       "      <td>10.0</td>\n",
       "      <td>30</td>\n",
       "      <td>Forward</td>\n",
       "      <td>10</td>\n",
       "      <td>454</td>\n",
       "      <td>12</td>\n",
       "      <td>0</td>\n",
       "      <td>0</td>\n",
       "      <td>2</td>\n",
       "      <td>2</td>\n",
       "      <td>0</td>\n",
       "    </tr>\n",
       "    <tr>\n",
       "      <td>483</td>\n",
       "      <td>0.5</td>\n",
       "      <td>21</td>\n",
       "      <td>Forward</td>\n",
       "      <td>7</td>\n",
       "      <td>0</td>\n",
       "      <td>0</td>\n",
       "      <td>0</td>\n",
       "      <td>0</td>\n",
       "      <td>0</td>\n",
       "      <td>0</td>\n",
       "      <td>0</td>\n",
       "    </tr>\n",
       "  </tbody>\n",
       "</table>\n",
       "<p>484 rows × 11 columns</p>\n",
       "</div>"
      ],
      "text/plain": [
       "     market_value  age    position  position_in_league  \\\n",
       "0             1.0   39  Goalkeeper                  14   \n",
       "1             4.0   30  Goalkeeper                  13   \n",
       "2            20.0   27  Goalkeeper                   5   \n",
       "3             8.0   27  Goalkeeper                  17   \n",
       "4             8.0   32  Goalkeeper                  14   \n",
       "..            ...  ...         ...                 ...   \n",
       "479           5.0   30     Forward                  11   \n",
       "480           6.0   32     Forward                  19   \n",
       "481          60.0   31     Forward                   3   \n",
       "482          10.0   30     Forward                  10   \n",
       "483           0.5   21     Forward                   7   \n",
       "\n",
       "     minutes_played_overall  appearances_overall  goals_overall  \\\n",
       "0                      1080                   12              0   \n",
       "1                      3420                   38              0   \n",
       "2                      2835                   32              0   \n",
       "3                      3060                   34              0   \n",
       "4                      2160                   24              0   \n",
       "..                      ...                  ...            ...   \n",
       "479                      22                    2              0   \n",
       "480                    1260                   16              5   \n",
       "481                    1092                   14              5   \n",
       "482                     454                   12              0   \n",
       "483                       0                    0              0   \n",
       "\n",
       "     assists_overall  clean_sheets_overall  yellow_cards_overall  \\\n",
       "0                  0                     4                     2   \n",
       "1                  0                    11                     1   \n",
       "2                  0                     7                     0   \n",
       "3                  0                     6                     2   \n",
       "4                  0                     5                     0   \n",
       "..               ...                   ...                   ...   \n",
       "479                0                     0                     1   \n",
       "480                3                     3                     3   \n",
       "481                0                     5                     0   \n",
       "482                0                     2                     2   \n",
       "483                0                     0                     0   \n",
       "\n",
       "     red_cards_overall  \n",
       "0                    0  \n",
       "1                    0  \n",
       "2                    0  \n",
       "3                    0  \n",
       "4                    0  \n",
       "..                 ...  \n",
       "479                  0  \n",
       "480                  0  \n",
       "481                  0  \n",
       "482                  0  \n",
       "483                  0  \n",
       "\n",
       "[484 rows x 11 columns]"
      ]
     },
     "metadata": {},
     "output_type": "display_data"
    }
   ],
   "source": [
    "data=pd.read_excel('premier_league_value_5.xlsx')\n",
    "display(data)"
   ]
  },
  {
   "cell_type": "markdown",
   "metadata": {},
   "source": [
    "# Objaśnienie dotyczące zmiennych\n",
    "\n",
    "->\tmarket_value –szacowana wartość rynkowa wyrażona w milionach\n",
    "\n",
    "->\tage – wiek zawodnika\n",
    "\n",
    "->\tposition – pozycja na jakiej występuje zawodnik\n",
    "\n",
    "->\tminutes_played_overall – liczba rozegranych minut w całych sezonie przez zawodnikała\n",
    "\n",
    "->\tappearances_overall – ilośc spotkań w jakich wystąpił dany zawodnik\n",
    "\n",
    "->\tgoals_overall – suma bramek strzelona przez piłkarza w całym sezonie\n",
    "\n",
    "->\tassists_overall – suma asyst dostarczonych przez zawodnika w całym sezonie \n",
    "\n",
    "->\tyellow_cards_overall – suma żółtych kartek zebrana przez zawodnika w całym sezonie\n",
    "\n",
    "->\tred_cards_overall – suma żółtych kartek zebrana przez zawodnika w całym sezonie \n",
    "\n",
    "->\tposition_in_league – miejsce jakie zajeła drużyna danego zawodnika na koniec sezonu 2018/2019\n",
    "\n",
    "->\tclean_sheets_overall – liczba czystych kont zebranych przez piłkarzy w przeciągu całego sezonu,\n",
    "\n"
   ]
  },
  {
   "cell_type": "markdown",
   "metadata": {},
   "source": [
    "# 1.Sprawdzamy podstawowe statystyki dotyczące rozpatrywanych danych"
   ]
  },
  {
   "cell_type": "markdown",
   "metadata": {},
   "source": [
    "Typy zmiennych"
   ]
  },
  {
   "cell_type": "code",
   "execution_count": 120,
   "metadata": {
    "scrolled": false
   },
   "outputs": [
    {
     "data": {
      "text/plain": [
       "market_value              float64\n",
       "age                         int64\n",
       "position                   object\n",
       "position_in_league          int64\n",
       "minutes_played_overall      int64\n",
       "appearances_overall         int64\n",
       "goals_overall               int64\n",
       "assists_overall             int64\n",
       "clean_sheets_overall        int64\n",
       "yellow_cards_overall        int64\n",
       "red_cards_overall           int64\n",
       "dtype: object"
      ]
     },
     "execution_count": 120,
     "metadata": {},
     "output_type": "execute_result"
    }
   ],
   "source": [
    "data.dtypes"
   ]
  },
  {
   "cell_type": "markdown",
   "metadata": {},
   "source": [
    "Rozmiar"
   ]
  },
  {
   "cell_type": "code",
   "execution_count": 121,
   "metadata": {
    "scrolled": true
   },
   "outputs": [
    {
     "data": {
      "text/plain": [
       "5324"
      ]
     },
     "execution_count": 121,
     "metadata": {},
     "output_type": "execute_result"
    }
   ],
   "source": [
    "data.size"
   ]
  },
  {
   "cell_type": "markdown",
   "metadata": {},
   "source": [
    "Podstawowe statyski opisowe"
   ]
  },
  {
   "cell_type": "code",
   "execution_count": 123,
   "metadata": {},
   "outputs": [
    {
     "data": {
      "text/html": [
       "<div>\n",
       "<style scoped>\n",
       "    .dataframe tbody tr th:only-of-type {\n",
       "        vertical-align: middle;\n",
       "    }\n",
       "\n",
       "    .dataframe tbody tr th {\n",
       "        vertical-align: top;\n",
       "    }\n",
       "\n",
       "    .dataframe thead th {\n",
       "        text-align: right;\n",
       "    }\n",
       "</style>\n",
       "<table border=\"1\" class=\"dataframe\">\n",
       "  <thead>\n",
       "    <tr style=\"text-align: right;\">\n",
       "      <th></th>\n",
       "      <th>market_value</th>\n",
       "      <th>age</th>\n",
       "      <th>position_in_league</th>\n",
       "      <th>minutes_played_overall</th>\n",
       "      <th>appearances_overall</th>\n",
       "      <th>goals_overall</th>\n",
       "      <th>assists_overall</th>\n",
       "      <th>clean_sheets_overall</th>\n",
       "      <th>yellow_cards_overall</th>\n",
       "      <th>red_cards_overall</th>\n",
       "    </tr>\n",
       "  </thead>\n",
       "  <tbody>\n",
       "    <tr>\n",
       "      <td>count</td>\n",
       "      <td>484.000000</td>\n",
       "      <td>484.000000</td>\n",
       "      <td>484.000000</td>\n",
       "      <td>484.000000</td>\n",
       "      <td>484.000000</td>\n",
       "      <td>484.000000</td>\n",
       "      <td>484.000000</td>\n",
       "      <td>484.000000</td>\n",
       "      <td>484.000000</td>\n",
       "      <td>484.000000</td>\n",
       "    </tr>\n",
       "    <tr>\n",
       "      <td>mean</td>\n",
       "      <td>15.771178</td>\n",
       "      <td>27.419421</td>\n",
       "      <td>10.657025</td>\n",
       "      <td>1527.026860</td>\n",
       "      <td>21.126033</td>\n",
       "      <td>2.105372</td>\n",
       "      <td>1.506198</td>\n",
       "      <td>5.778926</td>\n",
       "      <td>2.613636</td>\n",
       "      <td>0.095041</td>\n",
       "    </tr>\n",
       "    <tr>\n",
       "      <td>std</td>\n",
       "      <td>20.478962</td>\n",
       "      <td>3.748252</td>\n",
       "      <td>5.815142</td>\n",
       "      <td>1051.188416</td>\n",
       "      <td>11.789151</td>\n",
       "      <td>3.692538</td>\n",
       "      <td>2.282793</td>\n",
       "      <td>4.613273</td>\n",
       "      <td>2.741730</td>\n",
       "      <td>0.307357</td>\n",
       "    </tr>\n",
       "    <tr>\n",
       "      <td>min</td>\n",
       "      <td>0.500000</td>\n",
       "      <td>18.000000</td>\n",
       "      <td>1.000000</td>\n",
       "      <td>0.000000</td>\n",
       "      <td>0.000000</td>\n",
       "      <td>0.000000</td>\n",
       "      <td>0.000000</td>\n",
       "      <td>0.000000</td>\n",
       "      <td>0.000000</td>\n",
       "      <td>0.000000</td>\n",
       "    </tr>\n",
       "    <tr>\n",
       "      <td>25%</td>\n",
       "      <td>4.000000</td>\n",
       "      <td>25.000000</td>\n",
       "      <td>5.750000</td>\n",
       "      <td>594.000000</td>\n",
       "      <td>12.000000</td>\n",
       "      <td>0.000000</td>\n",
       "      <td>0.000000</td>\n",
       "      <td>2.000000</td>\n",
       "      <td>0.000000</td>\n",
       "      <td>0.000000</td>\n",
       "    </tr>\n",
       "    <tr>\n",
       "      <td>50%</td>\n",
       "      <td>9.000000</td>\n",
       "      <td>27.000000</td>\n",
       "      <td>11.000000</td>\n",
       "      <td>1514.000000</td>\n",
       "      <td>23.500000</td>\n",
       "      <td>1.000000</td>\n",
       "      <td>1.000000</td>\n",
       "      <td>5.000000</td>\n",
       "      <td>2.000000</td>\n",
       "      <td>0.000000</td>\n",
       "    </tr>\n",
       "    <tr>\n",
       "      <td>75%</td>\n",
       "      <td>18.500000</td>\n",
       "      <td>30.000000</td>\n",
       "      <td>16.000000</td>\n",
       "      <td>2402.750000</td>\n",
       "      <td>31.000000</td>\n",
       "      <td>2.250000</td>\n",
       "      <td>2.000000</td>\n",
       "      <td>8.000000</td>\n",
       "      <td>4.000000</td>\n",
       "      <td>0.000000</td>\n",
       "    </tr>\n",
       "    <tr>\n",
       "      <td>max</td>\n",
       "      <td>150.000000</td>\n",
       "      <td>39.000000</td>\n",
       "      <td>20.000000</td>\n",
       "      <td>3420.000000</td>\n",
       "      <td>38.000000</td>\n",
       "      <td>22.000000</td>\n",
       "      <td>15.000000</td>\n",
       "      <td>21.000000</td>\n",
       "      <td>15.000000</td>\n",
       "      <td>2.000000</td>\n",
       "    </tr>\n",
       "  </tbody>\n",
       "</table>\n",
       "</div>"
      ],
      "text/plain": [
       "       market_value         age  position_in_league  minutes_played_overall  \\\n",
       "count    484.000000  484.000000          484.000000              484.000000   \n",
       "mean      15.771178   27.419421           10.657025             1527.026860   \n",
       "std       20.478962    3.748252            5.815142             1051.188416   \n",
       "min        0.500000   18.000000            1.000000                0.000000   \n",
       "25%        4.000000   25.000000            5.750000              594.000000   \n",
       "50%        9.000000   27.000000           11.000000             1514.000000   \n",
       "75%       18.500000   30.000000           16.000000             2402.750000   \n",
       "max      150.000000   39.000000           20.000000             3420.000000   \n",
       "\n",
       "       appearances_overall  goals_overall  assists_overall  \\\n",
       "count           484.000000     484.000000       484.000000   \n",
       "mean             21.126033       2.105372         1.506198   \n",
       "std              11.789151       3.692538         2.282793   \n",
       "min               0.000000       0.000000         0.000000   \n",
       "25%              12.000000       0.000000         0.000000   \n",
       "50%              23.500000       1.000000         1.000000   \n",
       "75%              31.000000       2.250000         2.000000   \n",
       "max              38.000000      22.000000        15.000000   \n",
       "\n",
       "       clean_sheets_overall  yellow_cards_overall  red_cards_overall  \n",
       "count            484.000000            484.000000         484.000000  \n",
       "mean               5.778926              2.613636           0.095041  \n",
       "std                4.613273              2.741730           0.307357  \n",
       "min                0.000000              0.000000           0.000000  \n",
       "25%                2.000000              0.000000           0.000000  \n",
       "50%                5.000000              2.000000           0.000000  \n",
       "75%                8.000000              4.000000           0.000000  \n",
       "max               21.000000             15.000000           2.000000  "
      ]
     },
     "execution_count": 123,
     "metadata": {},
     "output_type": "execute_result"
    }
   ],
   "source": [
    "data.describe()"
   ]
  },
  {
   "cell_type": "markdown",
   "metadata": {},
   "source": [
    "Statystyki opisowe w zależności od pozycji zawodnika na boisku"
   ]
  },
  {
   "cell_type": "code",
   "execution_count": 124,
   "metadata": {},
   "outputs": [
    {
     "data": {
      "text/html": [
       "<div>\n",
       "<style scoped>\n",
       "    .dataframe tbody tr th:only-of-type {\n",
       "        vertical-align: middle;\n",
       "    }\n",
       "\n",
       "    .dataframe tbody tr th {\n",
       "        vertical-align: top;\n",
       "    }\n",
       "\n",
       "    .dataframe thead th {\n",
       "        text-align: right;\n",
       "    }\n",
       "</style>\n",
       "<table border=\"1\" class=\"dataframe\">\n",
       "  <thead>\n",
       "    <tr style=\"text-align: right;\">\n",
       "      <th></th>\n",
       "      <th>count</th>\n",
       "      <th>mean</th>\n",
       "      <th>std</th>\n",
       "      <th>min</th>\n",
       "      <th>25%</th>\n",
       "      <th>50%</th>\n",
       "      <th>75%</th>\n",
       "      <th>max</th>\n",
       "    </tr>\n",
       "    <tr>\n",
       "      <th>position</th>\n",
       "      <th></th>\n",
       "      <th></th>\n",
       "      <th></th>\n",
       "      <th></th>\n",
       "      <th></th>\n",
       "      <th></th>\n",
       "      <th></th>\n",
       "      <th></th>\n",
       "    </tr>\n",
       "  </thead>\n",
       "  <tbody>\n",
       "    <tr>\n",
       "      <td>Defender</td>\n",
       "      <td>164.0</td>\n",
       "      <td>12.155488</td>\n",
       "      <td>11.830808</td>\n",
       "      <td>0.5</td>\n",
       "      <td>3.50</td>\n",
       "      <td>8.0</td>\n",
       "      <td>18.0</td>\n",
       "      <td>50.0</td>\n",
       "    </tr>\n",
       "    <tr>\n",
       "      <td>Forward</td>\n",
       "      <td>97.0</td>\n",
       "      <td>21.865979</td>\n",
       "      <td>29.643324</td>\n",
       "      <td>0.5</td>\n",
       "      <td>6.00</td>\n",
       "      <td>10.0</td>\n",
       "      <td>20.0</td>\n",
       "      <td>150.0</td>\n",
       "    </tr>\n",
       "    <tr>\n",
       "      <td>Goalkeeper</td>\n",
       "      <td>43.0</td>\n",
       "      <td>10.267442</td>\n",
       "      <td>15.592313</td>\n",
       "      <td>0.5</td>\n",
       "      <td>1.75</td>\n",
       "      <td>4.0</td>\n",
       "      <td>11.0</td>\n",
       "      <td>70.0</td>\n",
       "    </tr>\n",
       "    <tr>\n",
       "      <td>Midfielder</td>\n",
       "      <td>180.0</td>\n",
       "      <td>17.095833</td>\n",
       "      <td>20.849977</td>\n",
       "      <td>0.5</td>\n",
       "      <td>5.00</td>\n",
       "      <td>10.0</td>\n",
       "      <td>20.0</td>\n",
       "      <td>150.0</td>\n",
       "    </tr>\n",
       "  </tbody>\n",
       "</table>\n",
       "</div>"
      ],
      "text/plain": [
       "            count       mean        std  min   25%   50%   75%    max\n",
       "position                                                             \n",
       "Defender    164.0  12.155488  11.830808  0.5  3.50   8.0  18.0   50.0\n",
       "Forward      97.0  21.865979  29.643324  0.5  6.00  10.0  20.0  150.0\n",
       "Goalkeeper   43.0  10.267442  15.592313  0.5  1.75   4.0  11.0   70.0\n",
       "Midfielder  180.0  17.095833  20.849977  0.5  5.00  10.0  20.0  150.0"
      ]
     },
     "execution_count": 124,
     "metadata": {},
     "output_type": "execute_result"
    }
   ],
   "source": [
    "data.groupby('position')['market_value'].describe()"
   ]
  },
  {
   "cell_type": "code",
   "execution_count": 125,
   "metadata": {},
   "outputs": [
    {
     "data": {
      "text/html": [
       "<div>\n",
       "<style scoped>\n",
       "    .dataframe tbody tr th:only-of-type {\n",
       "        vertical-align: middle;\n",
       "    }\n",
       "\n",
       "    .dataframe tbody tr th {\n",
       "        vertical-align: top;\n",
       "    }\n",
       "\n",
       "    .dataframe thead th {\n",
       "        text-align: right;\n",
       "    }\n",
       "</style>\n",
       "<table border=\"1\" class=\"dataframe\">\n",
       "  <thead>\n",
       "    <tr style=\"text-align: right;\">\n",
       "      <th></th>\n",
       "      <th>count</th>\n",
       "      <th>mean</th>\n",
       "      <th>std</th>\n",
       "      <th>min</th>\n",
       "      <th>25%</th>\n",
       "      <th>50%</th>\n",
       "      <th>75%</th>\n",
       "      <th>max</th>\n",
       "    </tr>\n",
       "    <tr>\n",
       "      <th>position</th>\n",
       "      <th></th>\n",
       "      <th></th>\n",
       "      <th></th>\n",
       "      <th></th>\n",
       "      <th></th>\n",
       "      <th></th>\n",
       "      <th></th>\n",
       "      <th></th>\n",
       "    </tr>\n",
       "  </thead>\n",
       "  <tbody>\n",
       "    <tr>\n",
       "      <td>Defender</td>\n",
       "      <td>164.0</td>\n",
       "      <td>27.603659</td>\n",
       "      <td>3.778562</td>\n",
       "      <td>19.0</td>\n",
       "      <td>25.0</td>\n",
       "      <td>27.5</td>\n",
       "      <td>30.0</td>\n",
       "      <td>38.0</td>\n",
       "    </tr>\n",
       "    <tr>\n",
       "      <td>Forward</td>\n",
       "      <td>97.0</td>\n",
       "      <td>27.103093</td>\n",
       "      <td>3.638580</td>\n",
       "      <td>21.0</td>\n",
       "      <td>24.0</td>\n",
       "      <td>27.0</td>\n",
       "      <td>29.0</td>\n",
       "      <td>38.0</td>\n",
       "    </tr>\n",
       "    <tr>\n",
       "      <td>Goalkeeper</td>\n",
       "      <td>43.0</td>\n",
       "      <td>29.976744</td>\n",
       "      <td>4.166124</td>\n",
       "      <td>22.0</td>\n",
       "      <td>27.0</td>\n",
       "      <td>30.0</td>\n",
       "      <td>32.0</td>\n",
       "      <td>39.0</td>\n",
       "    </tr>\n",
       "    <tr>\n",
       "      <td>Midfielder</td>\n",
       "      <td>180.0</td>\n",
       "      <td>26.811111</td>\n",
       "      <td>3.421570</td>\n",
       "      <td>18.0</td>\n",
       "      <td>24.0</td>\n",
       "      <td>27.0</td>\n",
       "      <td>29.0</td>\n",
       "      <td>34.0</td>\n",
       "    </tr>\n",
       "  </tbody>\n",
       "</table>\n",
       "</div>"
      ],
      "text/plain": [
       "            count       mean       std   min   25%   50%   75%   max\n",
       "position                                                            \n",
       "Defender    164.0  27.603659  3.778562  19.0  25.0  27.5  30.0  38.0\n",
       "Forward      97.0  27.103093  3.638580  21.0  24.0  27.0  29.0  38.0\n",
       "Goalkeeper   43.0  29.976744  4.166124  22.0  27.0  30.0  32.0  39.0\n",
       "Midfielder  180.0  26.811111  3.421570  18.0  24.0  27.0  29.0  34.0"
      ]
     },
     "execution_count": 125,
     "metadata": {},
     "output_type": "execute_result"
    }
   ],
   "source": [
    "data.groupby('position')['age'].describe()"
   ]
  },
  {
   "cell_type": "code",
   "execution_count": 126,
   "metadata": {},
   "outputs": [
    {
     "data": {
      "text/html": [
       "<div>\n",
       "<style scoped>\n",
       "    .dataframe tbody tr th:only-of-type {\n",
       "        vertical-align: middle;\n",
       "    }\n",
       "\n",
       "    .dataframe tbody tr th {\n",
       "        vertical-align: top;\n",
       "    }\n",
       "\n",
       "    .dataframe thead th {\n",
       "        text-align: right;\n",
       "    }\n",
       "</style>\n",
       "<table border=\"1\" class=\"dataframe\">\n",
       "  <thead>\n",
       "    <tr style=\"text-align: right;\">\n",
       "      <th></th>\n",
       "      <th>count</th>\n",
       "      <th>mean</th>\n",
       "      <th>std</th>\n",
       "      <th>min</th>\n",
       "      <th>25%</th>\n",
       "      <th>50%</th>\n",
       "      <th>75%</th>\n",
       "      <th>max</th>\n",
       "    </tr>\n",
       "    <tr>\n",
       "      <th>position</th>\n",
       "      <th></th>\n",
       "      <th></th>\n",
       "      <th></th>\n",
       "      <th></th>\n",
       "      <th></th>\n",
       "      <th></th>\n",
       "      <th></th>\n",
       "      <th></th>\n",
       "    </tr>\n",
       "  </thead>\n",
       "  <tbody>\n",
       "    <tr>\n",
       "      <td>Defender</td>\n",
       "      <td>164.0</td>\n",
       "      <td>1664.353659</td>\n",
       "      <td>1013.960871</td>\n",
       "      <td>0.0</td>\n",
       "      <td>803.25</td>\n",
       "      <td>1749.0</td>\n",
       "      <td>2560.75</td>\n",
       "      <td>3420.0</td>\n",
       "    </tr>\n",
       "    <tr>\n",
       "      <td>Forward</td>\n",
       "      <td>97.0</td>\n",
       "      <td>1285.288660</td>\n",
       "      <td>984.968337</td>\n",
       "      <td>0.0</td>\n",
       "      <td>468.00</td>\n",
       "      <td>1019.0</td>\n",
       "      <td>2130.00</td>\n",
       "      <td>3282.0</td>\n",
       "    </tr>\n",
       "    <tr>\n",
       "      <td>Goalkeeper</td>\n",
       "      <td>43.0</td>\n",
       "      <td>1584.418605</td>\n",
       "      <td>1418.348289</td>\n",
       "      <td>0.0</td>\n",
       "      <td>135.00</td>\n",
       "      <td>1575.0</td>\n",
       "      <td>3150.00</td>\n",
       "      <td>3420.0</td>\n",
       "    </tr>\n",
       "    <tr>\n",
       "      <td>Midfielder</td>\n",
       "      <td>180.0</td>\n",
       "      <td>1518.466667</td>\n",
       "      <td>1001.638331</td>\n",
       "      <td>0.0</td>\n",
       "      <td>676.00</td>\n",
       "      <td>1498.5</td>\n",
       "      <td>2312.75</td>\n",
       "      <td>3420.0</td>\n",
       "    </tr>\n",
       "  </tbody>\n",
       "</table>\n",
       "</div>"
      ],
      "text/plain": [
       "            count         mean          std  min     25%     50%      75%  \\\n",
       "position                                                                    \n",
       "Defender    164.0  1664.353659  1013.960871  0.0  803.25  1749.0  2560.75   \n",
       "Forward      97.0  1285.288660   984.968337  0.0  468.00  1019.0  2130.00   \n",
       "Goalkeeper   43.0  1584.418605  1418.348289  0.0  135.00  1575.0  3150.00   \n",
       "Midfielder  180.0  1518.466667  1001.638331  0.0  676.00  1498.5  2312.75   \n",
       "\n",
       "               max  \n",
       "position            \n",
       "Defender    3420.0  \n",
       "Forward     3282.0  \n",
       "Goalkeeper  3420.0  \n",
       "Midfielder  3420.0  "
      ]
     },
     "execution_count": 126,
     "metadata": {},
     "output_type": "execute_result"
    }
   ],
   "source": [
    "data.groupby('position')['minutes_played_overall'].describe()"
   ]
  },
  {
   "cell_type": "code",
   "execution_count": 127,
   "metadata": {},
   "outputs": [
    {
     "data": {
      "text/html": [
       "<div>\n",
       "<style scoped>\n",
       "    .dataframe tbody tr th:only-of-type {\n",
       "        vertical-align: middle;\n",
       "    }\n",
       "\n",
       "    .dataframe tbody tr th {\n",
       "        vertical-align: top;\n",
       "    }\n",
       "\n",
       "    .dataframe thead th {\n",
       "        text-align: right;\n",
       "    }\n",
       "</style>\n",
       "<table border=\"1\" class=\"dataframe\">\n",
       "  <thead>\n",
       "    <tr style=\"text-align: right;\">\n",
       "      <th></th>\n",
       "      <th>count</th>\n",
       "      <th>mean</th>\n",
       "      <th>std</th>\n",
       "      <th>min</th>\n",
       "      <th>25%</th>\n",
       "      <th>50%</th>\n",
       "      <th>75%</th>\n",
       "      <th>max</th>\n",
       "    </tr>\n",
       "    <tr>\n",
       "      <th>position</th>\n",
       "      <th></th>\n",
       "      <th></th>\n",
       "      <th></th>\n",
       "      <th></th>\n",
       "      <th></th>\n",
       "      <th></th>\n",
       "      <th></th>\n",
       "      <th></th>\n",
       "    </tr>\n",
       "  </thead>\n",
       "  <tbody>\n",
       "    <tr>\n",
       "      <td>Defender</td>\n",
       "      <td>164.0</td>\n",
       "      <td>20.493902</td>\n",
       "      <td>11.142412</td>\n",
       "      <td>0.0</td>\n",
       "      <td>11.75</td>\n",
       "      <td>22.0</td>\n",
       "      <td>29.25</td>\n",
       "      <td>38.0</td>\n",
       "    </tr>\n",
       "    <tr>\n",
       "      <td>Forward</td>\n",
       "      <td>97.0</td>\n",
       "      <td>21.979381</td>\n",
       "      <td>11.189634</td>\n",
       "      <td>0.0</td>\n",
       "      <td>14.00</td>\n",
       "      <td>23.0</td>\n",
       "      <td>32.00</td>\n",
       "      <td>38.0</td>\n",
       "    </tr>\n",
       "    <tr>\n",
       "      <td>Goalkeeper</td>\n",
       "      <td>43.0</td>\n",
       "      <td>17.674419</td>\n",
       "      <td>15.752129</td>\n",
       "      <td>0.0</td>\n",
       "      <td>1.50</td>\n",
       "      <td>18.0</td>\n",
       "      <td>35.00</td>\n",
       "      <td>38.0</td>\n",
       "    </tr>\n",
       "    <tr>\n",
       "      <td>Midfielder</td>\n",
       "      <td>180.0</td>\n",
       "      <td>22.066667</td>\n",
       "      <td>11.492820</td>\n",
       "      <td>0.0</td>\n",
       "      <td>13.00</td>\n",
       "      <td>25.0</td>\n",
       "      <td>31.00</td>\n",
       "      <td>38.0</td>\n",
       "    </tr>\n",
       "  </tbody>\n",
       "</table>\n",
       "</div>"
      ],
      "text/plain": [
       "            count       mean        std  min    25%   50%    75%   max\n",
       "position                                                              \n",
       "Defender    164.0  20.493902  11.142412  0.0  11.75  22.0  29.25  38.0\n",
       "Forward      97.0  21.979381  11.189634  0.0  14.00  23.0  32.00  38.0\n",
       "Goalkeeper   43.0  17.674419  15.752129  0.0   1.50  18.0  35.00  38.0\n",
       "Midfielder  180.0  22.066667  11.492820  0.0  13.00  25.0  31.00  38.0"
      ]
     },
     "execution_count": 127,
     "metadata": {},
     "output_type": "execute_result"
    }
   ],
   "source": [
    "data.groupby('position')['appearances_overall'].describe()"
   ]
  },
  {
   "cell_type": "code",
   "execution_count": 128,
   "metadata": {},
   "outputs": [
    {
     "data": {
      "text/html": [
       "<div>\n",
       "<style scoped>\n",
       "    .dataframe tbody tr th:only-of-type {\n",
       "        vertical-align: middle;\n",
       "    }\n",
       "\n",
       "    .dataframe tbody tr th {\n",
       "        vertical-align: top;\n",
       "    }\n",
       "\n",
       "    .dataframe thead th {\n",
       "        text-align: right;\n",
       "    }\n",
       "</style>\n",
       "<table border=\"1\" class=\"dataframe\">\n",
       "  <thead>\n",
       "    <tr style=\"text-align: right;\">\n",
       "      <th></th>\n",
       "      <th>count</th>\n",
       "      <th>mean</th>\n",
       "      <th>std</th>\n",
       "      <th>min</th>\n",
       "      <th>25%</th>\n",
       "      <th>50%</th>\n",
       "      <th>75%</th>\n",
       "      <th>max</th>\n",
       "    </tr>\n",
       "    <tr>\n",
       "      <th>position</th>\n",
       "      <th></th>\n",
       "      <th></th>\n",
       "      <th></th>\n",
       "      <th></th>\n",
       "      <th></th>\n",
       "      <th></th>\n",
       "      <th></th>\n",
       "      <th></th>\n",
       "    </tr>\n",
       "  </thead>\n",
       "  <tbody>\n",
       "    <tr>\n",
       "      <td>Defender</td>\n",
       "      <td>164.0</td>\n",
       "      <td>0.804878</td>\n",
       "      <td>1.202646</td>\n",
       "      <td>0.0</td>\n",
       "      <td>0.0</td>\n",
       "      <td>0.0</td>\n",
       "      <td>1.0</td>\n",
       "      <td>5.0</td>\n",
       "    </tr>\n",
       "    <tr>\n",
       "      <td>Forward</td>\n",
       "      <td>97.0</td>\n",
       "      <td>5.103093</td>\n",
       "      <td>5.976490</td>\n",
       "      <td>0.0</td>\n",
       "      <td>0.0</td>\n",
       "      <td>3.0</td>\n",
       "      <td>10.0</td>\n",
       "      <td>22.0</td>\n",
       "    </tr>\n",
       "    <tr>\n",
       "      <td>Goalkeeper</td>\n",
       "      <td>43.0</td>\n",
       "      <td>0.000000</td>\n",
       "      <td>0.000000</td>\n",
       "      <td>0.0</td>\n",
       "      <td>0.0</td>\n",
       "      <td>0.0</td>\n",
       "      <td>0.0</td>\n",
       "      <td>0.0</td>\n",
       "    </tr>\n",
       "    <tr>\n",
       "      <td>Midfielder</td>\n",
       "      <td>180.0</td>\n",
       "      <td>2.177778</td>\n",
       "      <td>2.971288</td>\n",
       "      <td>0.0</td>\n",
       "      <td>0.0</td>\n",
       "      <td>1.0</td>\n",
       "      <td>3.0</td>\n",
       "      <td>16.0</td>\n",
       "    </tr>\n",
       "  </tbody>\n",
       "</table>\n",
       "</div>"
      ],
      "text/plain": [
       "            count      mean       std  min  25%  50%   75%   max\n",
       "position                                                        \n",
       "Defender    164.0  0.804878  1.202646  0.0  0.0  0.0   1.0   5.0\n",
       "Forward      97.0  5.103093  5.976490  0.0  0.0  3.0  10.0  22.0\n",
       "Goalkeeper   43.0  0.000000  0.000000  0.0  0.0  0.0   0.0   0.0\n",
       "Midfielder  180.0  2.177778  2.971288  0.0  0.0  1.0   3.0  16.0"
      ]
     },
     "execution_count": 128,
     "metadata": {},
     "output_type": "execute_result"
    }
   ],
   "source": [
    "data.groupby('position')['goals_overall'].describe()"
   ]
  },
  {
   "cell_type": "code",
   "execution_count": 129,
   "metadata": {},
   "outputs": [
    {
     "data": {
      "text/html": [
       "<div>\n",
       "<style scoped>\n",
       "    .dataframe tbody tr th:only-of-type {\n",
       "        vertical-align: middle;\n",
       "    }\n",
       "\n",
       "    .dataframe tbody tr th {\n",
       "        vertical-align: top;\n",
       "    }\n",
       "\n",
       "    .dataframe thead th {\n",
       "        text-align: right;\n",
       "    }\n",
       "</style>\n",
       "<table border=\"1\" class=\"dataframe\">\n",
       "  <thead>\n",
       "    <tr style=\"text-align: right;\">\n",
       "      <th></th>\n",
       "      <th>count</th>\n",
       "      <th>mean</th>\n",
       "      <th>std</th>\n",
       "      <th>min</th>\n",
       "      <th>25%</th>\n",
       "      <th>50%</th>\n",
       "      <th>75%</th>\n",
       "      <th>max</th>\n",
       "    </tr>\n",
       "    <tr>\n",
       "      <th>position</th>\n",
       "      <th></th>\n",
       "      <th></th>\n",
       "      <th></th>\n",
       "      <th></th>\n",
       "      <th></th>\n",
       "      <th></th>\n",
       "      <th></th>\n",
       "      <th></th>\n",
       "    </tr>\n",
       "  </thead>\n",
       "  <tbody>\n",
       "    <tr>\n",
       "      <td>Defender</td>\n",
       "      <td>164.0</td>\n",
       "      <td>1.085366</td>\n",
       "      <td>1.824854</td>\n",
       "      <td>0.0</td>\n",
       "      <td>0.0</td>\n",
       "      <td>0.0</td>\n",
       "      <td>1.0</td>\n",
       "      <td>12.0</td>\n",
       "    </tr>\n",
       "    <tr>\n",
       "      <td>Forward</td>\n",
       "      <td>97.0</td>\n",
       "      <td>2.092784</td>\n",
       "      <td>2.437051</td>\n",
       "      <td>0.0</td>\n",
       "      <td>0.0</td>\n",
       "      <td>1.0</td>\n",
       "      <td>3.0</td>\n",
       "      <td>10.0</td>\n",
       "    </tr>\n",
       "    <tr>\n",
       "      <td>Goalkeeper</td>\n",
       "      <td>43.0</td>\n",
       "      <td>0.046512</td>\n",
       "      <td>0.213083</td>\n",
       "      <td>0.0</td>\n",
       "      <td>0.0</td>\n",
       "      <td>0.0</td>\n",
       "      <td>0.0</td>\n",
       "      <td>1.0</td>\n",
       "    </tr>\n",
       "    <tr>\n",
       "      <td>Midfielder</td>\n",
       "      <td>180.0</td>\n",
       "      <td>1.922222</td>\n",
       "      <td>2.607371</td>\n",
       "      <td>0.0</td>\n",
       "      <td>0.0</td>\n",
       "      <td>1.0</td>\n",
       "      <td>3.0</td>\n",
       "      <td>15.0</td>\n",
       "    </tr>\n",
       "  </tbody>\n",
       "</table>\n",
       "</div>"
      ],
      "text/plain": [
       "            count      mean       std  min  25%  50%  75%   max\n",
       "position                                                       \n",
       "Defender    164.0  1.085366  1.824854  0.0  0.0  0.0  1.0  12.0\n",
       "Forward      97.0  2.092784  2.437051  0.0  0.0  1.0  3.0  10.0\n",
       "Goalkeeper   43.0  0.046512  0.213083  0.0  0.0  0.0  0.0   1.0\n",
       "Midfielder  180.0  1.922222  2.607371  0.0  0.0  1.0  3.0  15.0"
      ]
     },
     "execution_count": 129,
     "metadata": {},
     "output_type": "execute_result"
    }
   ],
   "source": [
    "data.groupby('position')['assists_overall'].describe()"
   ]
  },
  {
   "cell_type": "code",
   "execution_count": 130,
   "metadata": {},
   "outputs": [
    {
     "data": {
      "text/html": [
       "<div>\n",
       "<style scoped>\n",
       "    .dataframe tbody tr th:only-of-type {\n",
       "        vertical-align: middle;\n",
       "    }\n",
       "\n",
       "    .dataframe tbody tr th {\n",
       "        vertical-align: top;\n",
       "    }\n",
       "\n",
       "    .dataframe thead th {\n",
       "        text-align: right;\n",
       "    }\n",
       "</style>\n",
       "<table border=\"1\" class=\"dataframe\">\n",
       "  <thead>\n",
       "    <tr style=\"text-align: right;\">\n",
       "      <th></th>\n",
       "      <th>count</th>\n",
       "      <th>mean</th>\n",
       "      <th>std</th>\n",
       "      <th>min</th>\n",
       "      <th>25%</th>\n",
       "      <th>50%</th>\n",
       "      <th>75%</th>\n",
       "      <th>max</th>\n",
       "    </tr>\n",
       "    <tr>\n",
       "      <th>position</th>\n",
       "      <th></th>\n",
       "      <th></th>\n",
       "      <th></th>\n",
       "      <th></th>\n",
       "      <th></th>\n",
       "      <th></th>\n",
       "      <th></th>\n",
       "      <th></th>\n",
       "    </tr>\n",
       "  </thead>\n",
       "  <tbody>\n",
       "    <tr>\n",
       "      <td>Defender</td>\n",
       "      <td>164.0</td>\n",
       "      <td>5.536585</td>\n",
       "      <td>4.344647</td>\n",
       "      <td>0.0</td>\n",
       "      <td>3.0</td>\n",
       "      <td>5.0</td>\n",
       "      <td>8.0</td>\n",
       "      <td>21.0</td>\n",
       "    </tr>\n",
       "    <tr>\n",
       "      <td>Forward</td>\n",
       "      <td>97.0</td>\n",
       "      <td>5.979381</td>\n",
       "      <td>4.734579</td>\n",
       "      <td>0.0</td>\n",
       "      <td>3.0</td>\n",
       "      <td>5.0</td>\n",
       "      <td>8.0</td>\n",
       "      <td>21.0</td>\n",
       "    </tr>\n",
       "    <tr>\n",
       "      <td>Goalkeeper</td>\n",
       "      <td>43.0</td>\n",
       "      <td>4.837209</td>\n",
       "      <td>5.393692</td>\n",
       "      <td>0.0</td>\n",
       "      <td>0.0</td>\n",
       "      <td>4.0</td>\n",
       "      <td>7.0</td>\n",
       "      <td>21.0</td>\n",
       "    </tr>\n",
       "    <tr>\n",
       "      <td>Midfielder</td>\n",
       "      <td>180.0</td>\n",
       "      <td>6.116667</td>\n",
       "      <td>4.581082</td>\n",
       "      <td>0.0</td>\n",
       "      <td>3.0</td>\n",
       "      <td>5.0</td>\n",
       "      <td>8.0</td>\n",
       "      <td>21.0</td>\n",
       "    </tr>\n",
       "  </tbody>\n",
       "</table>\n",
       "</div>"
      ],
      "text/plain": [
       "            count      mean       std  min  25%  50%  75%   max\n",
       "position                                                       \n",
       "Defender    164.0  5.536585  4.344647  0.0  3.0  5.0  8.0  21.0\n",
       "Forward      97.0  5.979381  4.734579  0.0  3.0  5.0  8.0  21.0\n",
       "Goalkeeper   43.0  4.837209  5.393692  0.0  0.0  4.0  7.0  21.0\n",
       "Midfielder  180.0  6.116667  4.581082  0.0  3.0  5.0  8.0  21.0"
      ]
     },
     "execution_count": 130,
     "metadata": {},
     "output_type": "execute_result"
    }
   ],
   "source": [
    "data.groupby('position')['clean_sheets_overall'].describe()"
   ]
  },
  {
   "cell_type": "code",
   "execution_count": 131,
   "metadata": {},
   "outputs": [
    {
     "data": {
      "text/html": [
       "<div>\n",
       "<style scoped>\n",
       "    .dataframe tbody tr th:only-of-type {\n",
       "        vertical-align: middle;\n",
       "    }\n",
       "\n",
       "    .dataframe tbody tr th {\n",
       "        vertical-align: top;\n",
       "    }\n",
       "\n",
       "    .dataframe thead th {\n",
       "        text-align: right;\n",
       "    }\n",
       "</style>\n",
       "<table border=\"1\" class=\"dataframe\">\n",
       "  <thead>\n",
       "    <tr style=\"text-align: right;\">\n",
       "      <th></th>\n",
       "      <th>count</th>\n",
       "      <th>mean</th>\n",
       "      <th>std</th>\n",
       "      <th>min</th>\n",
       "      <th>25%</th>\n",
       "      <th>50%</th>\n",
       "      <th>75%</th>\n",
       "      <th>max</th>\n",
       "    </tr>\n",
       "    <tr>\n",
       "      <th>position</th>\n",
       "      <th></th>\n",
       "      <th></th>\n",
       "      <th></th>\n",
       "      <th></th>\n",
       "      <th></th>\n",
       "      <th></th>\n",
       "      <th></th>\n",
       "      <th></th>\n",
       "    </tr>\n",
       "  </thead>\n",
       "  <tbody>\n",
       "    <tr>\n",
       "      <td>Defender</td>\n",
       "      <td>164.0</td>\n",
       "      <td>3.054878</td>\n",
       "      <td>2.813755</td>\n",
       "      <td>0.0</td>\n",
       "      <td>1.0</td>\n",
       "      <td>2.0</td>\n",
       "      <td>4.25</td>\n",
       "      <td>13.0</td>\n",
       "    </tr>\n",
       "    <tr>\n",
       "      <td>Forward</td>\n",
       "      <td>97.0</td>\n",
       "      <td>1.773196</td>\n",
       "      <td>1.729072</td>\n",
       "      <td>0.0</td>\n",
       "      <td>0.0</td>\n",
       "      <td>1.0</td>\n",
       "      <td>3.00</td>\n",
       "      <td>8.0</td>\n",
       "    </tr>\n",
       "    <tr>\n",
       "      <td>Goalkeeper</td>\n",
       "      <td>43.0</td>\n",
       "      <td>0.627907</td>\n",
       "      <td>0.900351</td>\n",
       "      <td>0.0</td>\n",
       "      <td>0.0</td>\n",
       "      <td>0.0</td>\n",
       "      <td>1.00</td>\n",
       "      <td>3.0</td>\n",
       "    </tr>\n",
       "    <tr>\n",
       "      <td>Midfielder</td>\n",
       "      <td>180.0</td>\n",
       "      <td>3.138889</td>\n",
       "      <td>3.081326</td>\n",
       "      <td>0.0</td>\n",
       "      <td>1.0</td>\n",
       "      <td>2.0</td>\n",
       "      <td>5.00</td>\n",
       "      <td>15.0</td>\n",
       "    </tr>\n",
       "  </tbody>\n",
       "</table>\n",
       "</div>"
      ],
      "text/plain": [
       "            count      mean       std  min  25%  50%   75%   max\n",
       "position                                                        \n",
       "Defender    164.0  3.054878  2.813755  0.0  1.0  2.0  4.25  13.0\n",
       "Forward      97.0  1.773196  1.729072  0.0  0.0  1.0  3.00   8.0\n",
       "Goalkeeper   43.0  0.627907  0.900351  0.0  0.0  0.0  1.00   3.0\n",
       "Midfielder  180.0  3.138889  3.081326  0.0  1.0  2.0  5.00  15.0"
      ]
     },
     "execution_count": 131,
     "metadata": {},
     "output_type": "execute_result"
    }
   ],
   "source": [
    "data.groupby('position')['yellow_cards_overall'].describe()"
   ]
  },
  {
   "cell_type": "code",
   "execution_count": 132,
   "metadata": {},
   "outputs": [
    {
     "data": {
      "text/html": [
       "<div>\n",
       "<style scoped>\n",
       "    .dataframe tbody tr th:only-of-type {\n",
       "        vertical-align: middle;\n",
       "    }\n",
       "\n",
       "    .dataframe tbody tr th {\n",
       "        vertical-align: top;\n",
       "    }\n",
       "\n",
       "    .dataframe thead th {\n",
       "        text-align: right;\n",
       "    }\n",
       "</style>\n",
       "<table border=\"1\" class=\"dataframe\">\n",
       "  <thead>\n",
       "    <tr style=\"text-align: right;\">\n",
       "      <th></th>\n",
       "      <th>count</th>\n",
       "      <th>mean</th>\n",
       "      <th>std</th>\n",
       "      <th>min</th>\n",
       "      <th>25%</th>\n",
       "      <th>50%</th>\n",
       "      <th>75%</th>\n",
       "      <th>max</th>\n",
       "    </tr>\n",
       "    <tr>\n",
       "      <th>position</th>\n",
       "      <th></th>\n",
       "      <th></th>\n",
       "      <th></th>\n",
       "      <th></th>\n",
       "      <th></th>\n",
       "      <th></th>\n",
       "      <th></th>\n",
       "      <th></th>\n",
       "    </tr>\n",
       "  </thead>\n",
       "  <tbody>\n",
       "    <tr>\n",
       "      <td>Defender</td>\n",
       "      <td>164.0</td>\n",
       "      <td>0.109756</td>\n",
       "      <td>0.332534</td>\n",
       "      <td>0.0</td>\n",
       "      <td>0.0</td>\n",
       "      <td>0.0</td>\n",
       "      <td>0.0</td>\n",
       "      <td>2.0</td>\n",
       "    </tr>\n",
       "    <tr>\n",
       "      <td>Forward</td>\n",
       "      <td>97.0</td>\n",
       "      <td>0.061856</td>\n",
       "      <td>0.242145</td>\n",
       "      <td>0.0</td>\n",
       "      <td>0.0</td>\n",
       "      <td>0.0</td>\n",
       "      <td>0.0</td>\n",
       "      <td>1.0</td>\n",
       "    </tr>\n",
       "    <tr>\n",
       "      <td>Goalkeeper</td>\n",
       "      <td>43.0</td>\n",
       "      <td>0.000000</td>\n",
       "      <td>0.000000</td>\n",
       "      <td>0.0</td>\n",
       "      <td>0.0</td>\n",
       "      <td>0.0</td>\n",
       "      <td>0.0</td>\n",
       "      <td>0.0</td>\n",
       "    </tr>\n",
       "    <tr>\n",
       "      <td>Midfielder</td>\n",
       "      <td>180.0</td>\n",
       "      <td>0.122222</td>\n",
       "      <td>0.345046</td>\n",
       "      <td>0.0</td>\n",
       "      <td>0.0</td>\n",
       "      <td>0.0</td>\n",
       "      <td>0.0</td>\n",
       "      <td>2.0</td>\n",
       "    </tr>\n",
       "  </tbody>\n",
       "</table>\n",
       "</div>"
      ],
      "text/plain": [
       "            count      mean       std  min  25%  50%  75%  max\n",
       "position                                                      \n",
       "Defender    164.0  0.109756  0.332534  0.0  0.0  0.0  0.0  2.0\n",
       "Forward      97.0  0.061856  0.242145  0.0  0.0  0.0  0.0  1.0\n",
       "Goalkeeper   43.0  0.000000  0.000000  0.0  0.0  0.0  0.0  0.0\n",
       "Midfielder  180.0  0.122222  0.345046  0.0  0.0  0.0  0.0  2.0"
      ]
     },
     "execution_count": 132,
     "metadata": {},
     "output_type": "execute_result"
    }
   ],
   "source": [
    "data.groupby('position')['red_cards_overall'].describe()"
   ]
  },
  {
   "cell_type": "markdown",
   "metadata": {},
   "source": [
    "Nasz zbiór danych posiada 484 obserwacje oraz 11 zmiennych."
   ]
  },
  {
   "cell_type": "code",
   "execution_count": 133,
   "metadata": {},
   "outputs": [
    {
     "data": {
      "text/plain": [
       "(484, 11)"
      ]
     },
     "execution_count": 133,
     "metadata": {},
     "output_type": "execute_result"
    }
   ],
   "source": [
    "data.shape "
   ]
  },
  {
   "cell_type": "markdown",
   "metadata": {},
   "source": [
    "Teraz postaramy się zwizualizować nasze dane na odpowiednich wykresach(a przynajmniej te zależności, które wydają się najistotniejsze)"
   ]
  },
  {
   "cell_type": "code",
   "execution_count": 134,
   "metadata": {},
   "outputs": [
    {
     "data": {
      "text/plain": [
       "Text(0.5, 0, 'Wartość rynkowa')"
      ]
     },
     "execution_count": 134,
     "metadata": {},
     "output_type": "execute_result"
    },
    {
     "data": {
      "image/png": "[encoded data removed]",
      "text/plain": [
       "<Figure size 432x288 with 1 Axes>"
      ]
     },
     "metadata": {
      "needs_background": "light"
     },
     "output_type": "display_data"
    }
   ],
   "source": [
    "sns.distplot(data['market_value'][1:], hist=True, kde=True, \n",
    "             bins=15, color = 'green', \n",
    "             hist_kws={'edgecolor':'black'},\n",
    "             kde_kws={'linewidth': 1})\n",
    "plt.title('Gęstość rozkładu zmiennej dotyczącej wartości rynkowej zawodników')\n",
    "plt.xlabel('Wartość rynkowa')  "
   ]
  },
  {
   "cell_type": "code",
   "execution_count": 135,
   "metadata": {
    "scrolled": true
   },
   "outputs": [
    {
     "data": {
      "text/plain": [
       "Text(1.5499999999999972, 0.5, 'Wartość rynkowa')"
      ]
     },
     "execution_count": 135,
     "metadata": {},
     "output_type": "execute_result"
    },
    {
     "data": {
      "image/png": "[encoded data removed]",
      "text/plain": [
       "<Figure size 360x360 with 1 Axes>"
      ]
     },
     "metadata": {
      "needs_background": "light"
     },
     "output_type": "display_data"
    }
   ],
   "source": [
    "sns.lmplot(x =\"age\", y =\"market_value\", data = data, order = 2, ci = None)\n",
    "plt.title('Wartość rynkowa, a wiek zawodnika')\n",
    "plt.xlabel('Wiek')  \n",
    "plt.ylabel('Wartość rynkowa')"
   ]
  },
  {
   "cell_type": "code",
   "execution_count": 136,
   "metadata": {},
   "outputs": [
    {
     "data": {
      "text/plain": [
       "Text(3.674999999999997, 0.5, 'Wartość rynkowa')"
      ]
     },
     "execution_count": 136,
     "metadata": {},
     "output_type": "execute_result"
    },
    {
     "data": {
      "image/png": "[encoded data removed]",
      "text/plain": [
       "<Figure size 360x360 with 1 Axes>"
      ]
     },
     "metadata": {
      "needs_background": "light"
     },
     "output_type": "display_data"
    }
   ],
   "source": [
    "sns.lmplot(x =\"minutes_played_overall\", y =\"market_value\", data = data, order = 2, ci = None)\n",
    "plt.title('Wartość rynkowa vs minuty rozegrane na boisku')\n",
    "plt.xlabel('Minuty rozegrane na boisku')  \n",
    "plt.ylabel('Wartość rynkowa')"
   ]
  },
  {
   "cell_type": "code",
   "execution_count": 137,
   "metadata": {},
   "outputs": [
    {
     "data": {
      "text/plain": [
       "Text(3.674999999999997, 0.5, 'Wartość rynkowa')"
      ]
     },
     "execution_count": 137,
     "metadata": {},
     "output_type": "execute_result"
    },
    {
     "data": {
      "image/png": "[encoded data removed]",
      "text/plain": [
       "<Figure size 360x360 with 1 Axes>"
      ]
     },
     "metadata": {
      "needs_background": "light"
     },
     "output_type": "display_data"
    }
   ],
   "source": [
    "sns.lmplot(x =\"appearances_overall\", y =\"market_value\", data = data, order = 2, ci = None)\n",
    "plt.title('Wartość rynkowa vs ilość występów')\n",
    "plt.xlabel('Ilość występów')  \n",
    "plt.ylabel('Wartość rynkowa')"
   ]
  },
  {
   "cell_type": "code",
   "execution_count": 138,
   "metadata": {},
   "outputs": [
    {
     "data": {
      "text/plain": [
       "Text(3.674999999999997, 0.5, 'Wartość rynkowa')"
      ]
     },
     "execution_count": 138,
     "metadata": {},
     "output_type": "execute_result"
    },
    {
     "data": {
      "image/png": "[encoded data removed]",
      "text/plain": [
       "<Figure size 360x360 with 1 Axes>"
      ]
     },
     "metadata": {
      "needs_background": "light"
     },
     "output_type": "display_data"
    }
   ],
   "source": [
    "sns.lmplot(x =\"goals_overall\", y =\"market_value\", data = data, order = 2, ci = None)\n",
    "plt.title('Wartość rynkowa vs ilość zdobytych bramek')\n",
    "plt.xlabel('Ilość zdobytych bramek')  \n",
    "plt.ylabel('Wartość rynkowa')"
   ]
  },
  {
   "cell_type": "code",
   "execution_count": 139,
   "metadata": {},
   "outputs": [
    {
     "data": {
      "text/plain": [
       "Text(3.674999999999997, 0.5, 'Wartość rynkowa')"
      ]
     },
     "execution_count": 139,
     "metadata": {},
     "output_type": "execute_result"
    },
    {
     "data": {
      "image/png": "[encoded data removed]",
      "text/plain": [
       "<Figure size 360x360 with 1 Axes>"
      ]
     },
     "metadata": {
      "needs_background": "light"
     },
     "output_type": "display_data"
    }
   ],
   "source": [
    "sns.lmplot(x =\"assists_overall\", y =\"market_value\", data = data, order = 2, ci = None)\n",
    "plt.title('Wartość rynkowa vs asyst')\n",
    "plt.xlabel('Ilość asyst')  \n",
    "plt.ylabel('Wartość rynkowa')"
   ]
  },
  {
   "cell_type": "markdown",
   "metadata": {},
   "source": [
    "Teraz sprawdzimy czy dochodzi do korelacji pomiędzy naszymi zmiennymi. Użyta do tego zostanie macierz korelacji.\n"
   ]
  },
  {
   "cell_type": "code",
   "execution_count": 140,
   "metadata": {},
   "outputs": [],
   "source": [
    "corr_matrix = data.iloc[:].corr()"
   ]
  },
  {
   "cell_type": "code",
   "execution_count": 141,
   "metadata": {},
   "outputs": [
    {
     "data": {
      "text/html": [
       "<div>\n",
       "<style scoped>\n",
       "    .dataframe tbody tr th:only-of-type {\n",
       "        vertical-align: middle;\n",
       "    }\n",
       "\n",
       "    .dataframe tbody tr th {\n",
       "        vertical-align: top;\n",
       "    }\n",
       "\n",
       "    .dataframe thead th {\n",
       "        text-align: right;\n",
       "    }\n",
       "</style>\n",
       "<table border=\"1\" class=\"dataframe\">\n",
       "  <thead>\n",
       "    <tr style=\"text-align: right;\">\n",
       "      <th></th>\n",
       "      <th>market_value</th>\n",
       "      <th>age</th>\n",
       "      <th>position_in_league</th>\n",
       "      <th>minutes_played_overall</th>\n",
       "      <th>appearances_overall</th>\n",
       "      <th>goals_overall</th>\n",
       "      <th>assists_overall</th>\n",
       "      <th>clean_sheets_overall</th>\n",
       "      <th>yellow_cards_overall</th>\n",
       "      <th>red_cards_overall</th>\n",
       "    </tr>\n",
       "  </thead>\n",
       "  <tbody>\n",
       "    <tr>\n",
       "      <td>market_value</td>\n",
       "      <td>1.000000</td>\n",
       "      <td>-0.098470</td>\n",
       "      <td>-0.521057</td>\n",
       "      <td>0.284440</td>\n",
       "      <td>0.310289</td>\n",
       "      <td>0.553625</td>\n",
       "      <td>0.418805</td>\n",
       "      <td>0.516755</td>\n",
       "      <td>0.046414</td>\n",
       "      <td>-0.026306</td>\n",
       "    </tr>\n",
       "    <tr>\n",
       "      <td>age</td>\n",
       "      <td>-0.098470</td>\n",
       "      <td>1.000000</td>\n",
       "      <td>0.023426</td>\n",
       "      <td>0.001422</td>\n",
       "      <td>-0.051098</td>\n",
       "      <td>-0.034314</td>\n",
       "      <td>-0.080275</td>\n",
       "      <td>-0.028511</td>\n",
       "      <td>-0.010792</td>\n",
       "      <td>0.015647</td>\n",
       "    </tr>\n",
       "    <tr>\n",
       "      <td>position_in_league</td>\n",
       "      <td>-0.521057</td>\n",
       "      <td>0.023426</td>\n",
       "      <td>1.000000</td>\n",
       "      <td>-0.048874</td>\n",
       "      <td>-0.064691</td>\n",
       "      <td>-0.194432</td>\n",
       "      <td>-0.233475</td>\n",
       "      <td>-0.435791</td>\n",
       "      <td>0.036862</td>\n",
       "      <td>0.015959</td>\n",
       "    </tr>\n",
       "    <tr>\n",
       "      <td>minutes_played_overall</td>\n",
       "      <td>0.284440</td>\n",
       "      <td>0.001422</td>\n",
       "      <td>-0.048874</td>\n",
       "      <td>1.000000</td>\n",
       "      <td>0.938247</td>\n",
       "      <td>0.405374</td>\n",
       "      <td>0.429959</td>\n",
       "      <td>0.707146</td>\n",
       "      <td>0.570121</td>\n",
       "      <td>0.181982</td>\n",
       "    </tr>\n",
       "    <tr>\n",
       "      <td>appearances_overall</td>\n",
       "      <td>0.310289</td>\n",
       "      <td>-0.051098</td>\n",
       "      <td>-0.064691</td>\n",
       "      <td>0.938247</td>\n",
       "      <td>1.000000</td>\n",
       "      <td>0.462600</td>\n",
       "      <td>0.479600</td>\n",
       "      <td>0.751292</td>\n",
       "      <td>0.535463</td>\n",
       "      <td>0.165246</td>\n",
       "    </tr>\n",
       "    <tr>\n",
       "      <td>goals_overall</td>\n",
       "      <td>0.553625</td>\n",
       "      <td>-0.034314</td>\n",
       "      <td>-0.194432</td>\n",
       "      <td>0.405374</td>\n",
       "      <td>0.462600</td>\n",
       "      <td>1.000000</td>\n",
       "      <td>0.563740</td>\n",
       "      <td>0.450460</td>\n",
       "      <td>0.180313</td>\n",
       "      <td>0.089667</td>\n",
       "    </tr>\n",
       "    <tr>\n",
       "      <td>assists_overall</td>\n",
       "      <td>0.418805</td>\n",
       "      <td>-0.080275</td>\n",
       "      <td>-0.233475</td>\n",
       "      <td>0.429959</td>\n",
       "      <td>0.479600</td>\n",
       "      <td>0.563740</td>\n",
       "      <td>1.000000</td>\n",
       "      <td>0.485431</td>\n",
       "      <td>0.223837</td>\n",
       "      <td>0.081782</td>\n",
       "    </tr>\n",
       "    <tr>\n",
       "      <td>clean_sheets_overall</td>\n",
       "      <td>0.516755</td>\n",
       "      <td>-0.028511</td>\n",
       "      <td>-0.435791</td>\n",
       "      <td>0.707146</td>\n",
       "      <td>0.751292</td>\n",
       "      <td>0.450460</td>\n",
       "      <td>0.485431</td>\n",
       "      <td>1.000000</td>\n",
       "      <td>0.305715</td>\n",
       "      <td>0.067415</td>\n",
       "    </tr>\n",
       "    <tr>\n",
       "      <td>yellow_cards_overall</td>\n",
       "      <td>0.046414</td>\n",
       "      <td>-0.010792</td>\n",
       "      <td>0.036862</td>\n",
       "      <td>0.570121</td>\n",
       "      <td>0.535463</td>\n",
       "      <td>0.180313</td>\n",
       "      <td>0.223837</td>\n",
       "      <td>0.305715</td>\n",
       "      <td>1.000000</td>\n",
       "      <td>0.350777</td>\n",
       "    </tr>\n",
       "    <tr>\n",
       "      <td>red_cards_overall</td>\n",
       "      <td>-0.026306</td>\n",
       "      <td>0.015647</td>\n",
       "      <td>0.015959</td>\n",
       "      <td>0.181982</td>\n",
       "      <td>0.165246</td>\n",
       "      <td>0.089667</td>\n",
       "      <td>0.081782</td>\n",
       "      <td>0.067415</td>\n",
       "      <td>0.350777</td>\n",
       "      <td>1.000000</td>\n",
       "    </tr>\n",
       "  </tbody>\n",
       "</table>\n",
       "</div>"
      ],
      "text/plain": [
       "                        market_value       age  position_in_league  \\\n",
       "market_value                1.000000 -0.098470           -0.521057   \n",
       "age                        -0.098470  1.000000            0.023426   \n",
       "position_in_league         -0.521057  0.023426            1.000000   \n",
       "minutes_played_overall      0.284440  0.001422           -0.048874   \n",
       "appearances_overall         0.310289 -0.051098           -0.064691   \n",
       "goals_overall               0.553625 -0.034314           -0.194432   \n",
       "assists_overall             0.418805 -0.080275           -0.233475   \n",
       "clean_sheets_overall        0.516755 -0.028511           -0.435791   \n",
       "yellow_cards_overall        0.046414 -0.010792            0.036862   \n",
       "red_cards_overall          -0.026306  0.015647            0.015959   \n",
       "\n",
       "                        minutes_played_overall  appearances_overall  \\\n",
       "market_value                          0.284440             0.310289   \n",
       "age                                   0.001422            -0.051098   \n",
       "position_in_league                   -0.048874            -0.064691   \n",
       "minutes_played_overall                1.000000             0.938247   \n",
       "appearances_overall                   0.938247             1.000000   \n",
       "goals_overall                         0.405374             0.462600   \n",
       "assists_overall                       0.429959             0.479600   \n",
       "clean_sheets_overall                  0.707146             0.751292   \n",
       "yellow_cards_overall                  0.570121             0.535463   \n",
       "red_cards_overall                     0.181982             0.165246   \n",
       "\n",
       "                        goals_overall  assists_overall  clean_sheets_overall  \\\n",
       "market_value                 0.553625         0.418805              0.516755   \n",
       "age                         -0.034314        -0.080275             -0.028511   \n",
       "position_in_league          -0.194432        -0.233475             -0.435791   \n",
       "minutes_played_overall       0.405374         0.429959              0.707146   \n",
       "appearances_overall          0.462600         0.479600              0.751292   \n",
       "goals_overall                1.000000         0.563740              0.450460   \n",
       "assists_overall              0.563740         1.000000              0.485431   \n",
       "clean_sheets_overall         0.450460         0.485431              1.000000   \n",
       "yellow_cards_overall         0.180313         0.223837              0.305715   \n",
       "red_cards_overall            0.089667         0.081782              0.067415   \n",
       "\n",
       "                        yellow_cards_overall  red_cards_overall  \n",
       "market_value                        0.046414          -0.026306  \n",
       "age                                -0.010792           0.015647  \n",
       "position_in_league                  0.036862           0.015959  \n",
       "minutes_played_overall              0.570121           0.181982  \n",
       "appearances_overall                 0.535463           0.165246  \n",
       "goals_overall                       0.180313           0.089667  \n",
       "assists_overall                     0.223837           0.081782  \n",
       "clean_sheets_overall                0.305715           0.067415  \n",
       "yellow_cards_overall                1.000000           0.350777  \n",
       "red_cards_overall                   0.350777           1.000000  "
      ]
     },
     "execution_count": 141,
     "metadata": {},
     "output_type": "execute_result"
    }
   ],
   "source": [
    "corr_matrix"
   ]
  },
  {
   "cell_type": "markdown",
   "metadata": {},
   "source": [
    "Z samej macierzy ciężko znaleźć te wartości korelacji, które są wysokie, dlatego macierz korelacji zostanie zmodyfikowana."
   ]
  },
  {
   "cell_type": "code",
   "execution_count": 143,
   "metadata": {},
   "outputs": [],
   "source": [
    "mask = np.zeros_like(corr_matrix, dtype=np.bool)\n",
    "mask[np.triu_indices_from(mask)] = True"
   ]
  },
  {
   "cell_type": "code",
   "execution_count": 142,
   "metadata": {},
   "outputs": [
    {
     "data": {
      "text/plain": [
       "<matplotlib.axes._subplots.AxesSubplot at 0x26fe37d8048>"
      ]
     },
     "execution_count": 142,
     "metadata": {},
     "output_type": "execute_result"
    },
    {
     "data": {
      "image/png": "[encoded data removed]",
      "text/plain": [
       "<Figure size 648x432 with 2 Axes>"
      ]
     },
     "metadata": {
      "needs_background": "light"
     },
     "output_type": "display_data"
    }
   ],
   "source": [
    "f, ax = plt.subplots(figsize=(9, 6))\n",
    "sns.heatmap(corr_matrix, annot=True, linewidths=.5, ax=ax, mask = mask, cmap=\"YlGnBu\")"
   ]
  },
  {
   "cell_type": "markdown",
   "metadata": {},
   "source": [
    "Tutaj dla zoobrazowania wykresy pudełkowe, służące do analizy rozkładu."
   ]
  },
  {
   "cell_type": "code",
   "execution_count": 145,
   "metadata": {},
   "outputs": [
    {
     "data": {
      "image/png": "[encoded data removed]",
      "text/plain": [
       "<Figure size 432x288 with 1 Axes>"
      ]
     },
     "metadata": {
      "needs_background": "light"
     },
     "output_type": "display_data"
    },
    {
     "data": {
      "image/png": "[encoded data removed]",
      "text/plain": [
       "<Figure size 432x288 with 1 Axes>"
      ]
     },
     "metadata": {
      "needs_background": "light"
     },
     "output_type": "display_data"
    },
    {
     "data": {
      "image/png": "[encoded data removed]",
      "text/plain": [
       "<Figure size 432x288 with 1 Axes>"
      ]
     },
     "metadata": {
      "needs_background": "light"
     },
     "output_type": "display_data"
    }
   ],
   "source": [
    "plt.boxplot=data.boxplot('market_value')\n",
    "plt.show()\n",
    "plt.boxplot=data.boxplot('age')\n",
    "plt.show()\n",
    "boxplot=data.boxplot(column=['market_value','age','goals_overall'])\n",
    "plt.show()\n"
   ]
  },
  {
   "cell_type": "markdown",
   "metadata": {},
   "source": [
    "# 2. Regresja liniowa"
   ]
  },
  {
   "cell_type": "markdown",
   "metadata": {},
   "source": [
    "Oszacowano regresję liniową dla zbioru danych, gdzie zmienną objaśnianą jest \"market_value\", zaś pozostałe zmienne to zmienne objaśniające."
   ]
  },
  {
   "cell_type": "code",
   "execution_count": 31,
   "metadata": {},
   "outputs": [],
   "source": [
    "import numpy as np\n",
    "import statsmodels.api as sm\n",
    "import statsmodels.formula.api as smf\n",
    "import matplotlib.pyplot as plt"
   ]
  },
  {
   "cell_type": "code",
   "execution_count": 146,
   "metadata": {},
   "outputs": [],
   "source": [
    "results = smf.ols('market_value ~ age + position_in_league + minutes_played_overall + appearances_overall + goals_overall + assists_overall + clean_sheets_overall + yellow_cards_overall + red_cards_overall ', data=data).fit()"
   ]
  },
  {
   "cell_type": "code",
   "execution_count": 147,
   "metadata": {},
   "outputs": [
    {
     "name": "stdout",
     "output_type": "stream",
     "text": [
      "                            OLS Regression Results                            \n",
      "==============================================================================\n",
      "Dep. Variable:           market_value   R-squared:                       0.521\n",
      "Model:                            OLS   Adj. R-squared:                  0.512\n",
      "Method:                 Least Squares   F-statistic:                     57.39\n",
      "Date:                Thu, 13 Feb 2020   Prob (F-statistic):           2.59e-70\n",
      "Time:                        21:31:40   Log-Likelihood:                -1969.3\n",
      "No. Observations:                 484   AIC:                             3959.\n",
      "Df Residuals:                     474   BIC:                             4000.\n",
      "Df Model:                           9                                         \n",
      "Covariance Type:            nonrobust                                         \n",
      "==========================================================================================\n",
      "                             coef    std err          t      P>|t|      [0.025      0.975]\n",
      "------------------------------------------------------------------------------------------\n",
      "Intercept                 32.8527      5.335      6.158      0.000      22.369      43.337\n",
      "age                       -0.4209      0.176     -2.390      0.017      -0.767      -0.075\n",
      "position_in_league        -1.1747      0.140     -8.374      0.000      -1.450      -0.899\n",
      "minutes_played_overall     0.0030      0.002      1.586      0.113      -0.001       0.007\n",
      "appearances_overall       -0.3439      0.181     -1.897      0.058      -0.700       0.012\n",
      "goals_overall              2.2398      0.224     10.012      0.000       1.800       2.679\n",
      "assists_overall            0.3815      0.369      1.034      0.302      -0.343       1.106\n",
      "clean_sheets_overall       1.0154      0.270      3.758      0.000       0.484       1.546\n",
      "yellow_cards_overall      -0.4314      0.308     -1.400      0.162      -1.037       0.174\n",
      "red_cards_overall         -3.3057      2.267     -1.458      0.145      -7.761       1.149\n",
      "==============================================================================\n",
      "Omnibus:                      296.026   Durbin-Watson:                   1.559\n",
      "Prob(Omnibus):                  0.000   Jarque-Bera (JB):             4490.689\n",
      "Skew:                           2.359   Prob(JB):                         0.00\n",
      "Kurtosis:                      17.157   Cond. No.                     1.52e+04\n",
      "==============================================================================\n",
      "\n",
      "Warnings:\n",
      "[1] Standard Errors assume that the covariance matrix of the errors is correctly specified.\n",
      "[2] The condition number is large, 1.52e+04. This might indicate that there are\n",
      "strong multicollinearity or other numerical problems.\n"
     ]
    }
   ],
   "source": [
    "print(results.summary())"
   ]
  },
  {
   "cell_type": "markdown",
   "metadata": {},
   "source": [
    "Następnym krokiem jaki poczyniliśmy było utworzenie zmiennych zerojedynkowych dla zmiennej \"position\" oraz oszacowanie modelu regresji."
   ]
  },
  {
   "cell_type": "code",
   "execution_count": 148,
   "metadata": {},
   "outputs": [
    {
     "data": {
      "text/html": [
       "<div>\n",
       "<style scoped>\n",
       "    .dataframe tbody tr th:only-of-type {\n",
       "        vertical-align: middle;\n",
       "    }\n",
       "\n",
       "    .dataframe tbody tr th {\n",
       "        vertical-align: top;\n",
       "    }\n",
       "\n",
       "    .dataframe thead th {\n",
       "        text-align: right;\n",
       "    }\n",
       "</style>\n",
       "<table border=\"1\" class=\"dataframe\">\n",
       "  <thead>\n",
       "    <tr style=\"text-align: right;\">\n",
       "      <th></th>\n",
       "      <th>market_value</th>\n",
       "      <th>age</th>\n",
       "      <th>position_in_league</th>\n",
       "      <th>minutes_played_overall</th>\n",
       "      <th>appearances_overall</th>\n",
       "      <th>goals_overall</th>\n",
       "      <th>assists_overall</th>\n",
       "      <th>clean_sheets_overall</th>\n",
       "      <th>yellow_cards_overall</th>\n",
       "      <th>red_cards_overall</th>\n",
       "      <th>position_Defender</th>\n",
       "      <th>position_Forward</th>\n",
       "      <th>position_Goalkeeper</th>\n",
       "      <th>position_Midfielder</th>\n",
       "    </tr>\n",
       "  </thead>\n",
       "  <tbody>\n",
       "    <tr>\n",
       "      <td>0</td>\n",
       "      <td>1.0</td>\n",
       "      <td>39</td>\n",
       "      <td>14</td>\n",
       "      <td>1080</td>\n",
       "      <td>12</td>\n",
       "      <td>0</td>\n",
       "      <td>0</td>\n",
       "      <td>4</td>\n",
       "      <td>2</td>\n",
       "      <td>0</td>\n",
       "      <td>0</td>\n",
       "      <td>0</td>\n",
       "      <td>1</td>\n",
       "      <td>0</td>\n",
       "    </tr>\n",
       "    <tr>\n",
       "      <td>1</td>\n",
       "      <td>4.0</td>\n",
       "      <td>30</td>\n",
       "      <td>13</td>\n",
       "      <td>3420</td>\n",
       "      <td>38</td>\n",
       "      <td>0</td>\n",
       "      <td>0</td>\n",
       "      <td>11</td>\n",
       "      <td>1</td>\n",
       "      <td>0</td>\n",
       "      <td>0</td>\n",
       "      <td>0</td>\n",
       "      <td>1</td>\n",
       "      <td>0</td>\n",
       "    </tr>\n",
       "    <tr>\n",
       "      <td>2</td>\n",
       "      <td>20.0</td>\n",
       "      <td>27</td>\n",
       "      <td>5</td>\n",
       "      <td>2835</td>\n",
       "      <td>32</td>\n",
       "      <td>0</td>\n",
       "      <td>0</td>\n",
       "      <td>7</td>\n",
       "      <td>0</td>\n",
       "      <td>0</td>\n",
       "      <td>0</td>\n",
       "      <td>0</td>\n",
       "      <td>1</td>\n",
       "      <td>0</td>\n",
       "    </tr>\n",
       "    <tr>\n",
       "      <td>3</td>\n",
       "      <td>8.0</td>\n",
       "      <td>27</td>\n",
       "      <td>17</td>\n",
       "      <td>3060</td>\n",
       "      <td>34</td>\n",
       "      <td>0</td>\n",
       "      <td>0</td>\n",
       "      <td>6</td>\n",
       "      <td>2</td>\n",
       "      <td>0</td>\n",
       "      <td>0</td>\n",
       "      <td>0</td>\n",
       "      <td>1</td>\n",
       "      <td>0</td>\n",
       "    </tr>\n",
       "    <tr>\n",
       "      <td>4</td>\n",
       "      <td>8.0</td>\n",
       "      <td>32</td>\n",
       "      <td>14</td>\n",
       "      <td>2160</td>\n",
       "      <td>24</td>\n",
       "      <td>0</td>\n",
       "      <td>0</td>\n",
       "      <td>5</td>\n",
       "      <td>0</td>\n",
       "      <td>0</td>\n",
       "      <td>0</td>\n",
       "      <td>0</td>\n",
       "      <td>1</td>\n",
       "      <td>0</td>\n",
       "    </tr>\n",
       "    <tr>\n",
       "      <td>...</td>\n",
       "      <td>...</td>\n",
       "      <td>...</td>\n",
       "      <td>...</td>\n",
       "      <td>...</td>\n",
       "      <td>...</td>\n",
       "      <td>...</td>\n",
       "      <td>...</td>\n",
       "      <td>...</td>\n",
       "      <td>...</td>\n",
       "      <td>...</td>\n",
       "      <td>...</td>\n",
       "      <td>...</td>\n",
       "      <td>...</td>\n",
       "      <td>...</td>\n",
       "    </tr>\n",
       "    <tr>\n",
       "      <td>479</td>\n",
       "      <td>5.0</td>\n",
       "      <td>30</td>\n",
       "      <td>11</td>\n",
       "      <td>22</td>\n",
       "      <td>2</td>\n",
       "      <td>0</td>\n",
       "      <td>0</td>\n",
       "      <td>0</td>\n",
       "      <td>1</td>\n",
       "      <td>0</td>\n",
       "      <td>0</td>\n",
       "      <td>1</td>\n",
       "      <td>0</td>\n",
       "      <td>0</td>\n",
       "    </tr>\n",
       "    <tr>\n",
       "      <td>480</td>\n",
       "      <td>6.0</td>\n",
       "      <td>32</td>\n",
       "      <td>19</td>\n",
       "      <td>1260</td>\n",
       "      <td>16</td>\n",
       "      <td>5</td>\n",
       "      <td>3</td>\n",
       "      <td>3</td>\n",
       "      <td>3</td>\n",
       "      <td>0</td>\n",
       "      <td>0</td>\n",
       "      <td>1</td>\n",
       "      <td>0</td>\n",
       "      <td>0</td>\n",
       "    </tr>\n",
       "    <tr>\n",
       "      <td>481</td>\n",
       "      <td>60.0</td>\n",
       "      <td>31</td>\n",
       "      <td>3</td>\n",
       "      <td>1092</td>\n",
       "      <td>14</td>\n",
       "      <td>5</td>\n",
       "      <td>0</td>\n",
       "      <td>5</td>\n",
       "      <td>0</td>\n",
       "      <td>0</td>\n",
       "      <td>0</td>\n",
       "      <td>1</td>\n",
       "      <td>0</td>\n",
       "      <td>0</td>\n",
       "    </tr>\n",
       "    <tr>\n",
       "      <td>482</td>\n",
       "      <td>10.0</td>\n",
       "      <td>30</td>\n",
       "      <td>10</td>\n",
       "      <td>454</td>\n",
       "      <td>12</td>\n",
       "      <td>0</td>\n",
       "      <td>0</td>\n",
       "      <td>2</td>\n",
       "      <td>2</td>\n",
       "      <td>0</td>\n",
       "      <td>0</td>\n",
       "      <td>1</td>\n",
       "      <td>0</td>\n",
       "      <td>0</td>\n",
       "    </tr>\n",
       "    <tr>\n",
       "      <td>483</td>\n",
       "      <td>0.5</td>\n",
       "      <td>21</td>\n",
       "      <td>7</td>\n",
       "      <td>0</td>\n",
       "      <td>0</td>\n",
       "      <td>0</td>\n",
       "      <td>0</td>\n",
       "      <td>0</td>\n",
       "      <td>0</td>\n",
       "      <td>0</td>\n",
       "      <td>0</td>\n",
       "      <td>1</td>\n",
       "      <td>0</td>\n",
       "      <td>0</td>\n",
       "    </tr>\n",
       "  </tbody>\n",
       "</table>\n",
       "<p>484 rows × 14 columns</p>\n",
       "</div>"
      ],
      "text/plain": [
       "     market_value  age  position_in_league  minutes_played_overall  \\\n",
       "0             1.0   39                  14                    1080   \n",
       "1             4.0   30                  13                    3420   \n",
       "2            20.0   27                   5                    2835   \n",
       "3             8.0   27                  17                    3060   \n",
       "4             8.0   32                  14                    2160   \n",
       "..            ...  ...                 ...                     ...   \n",
       "479           5.0   30                  11                      22   \n",
       "480           6.0   32                  19                    1260   \n",
       "481          60.0   31                   3                    1092   \n",
       "482          10.0   30                  10                     454   \n",
       "483           0.5   21                   7                       0   \n",
       "\n",
       "     appearances_overall  goals_overall  assists_overall  \\\n",
       "0                     12              0                0   \n",
       "1                     38              0                0   \n",
       "2                     32              0                0   \n",
       "3                     34              0                0   \n",
       "4                     24              0                0   \n",
       "..                   ...            ...              ...   \n",
       "479                    2              0                0   \n",
       "480                   16              5                3   \n",
       "481                   14              5                0   \n",
       "482                   12              0                0   \n",
       "483                    0              0                0   \n",
       "\n",
       "     clean_sheets_overall  yellow_cards_overall  red_cards_overall  \\\n",
       "0                       4                     2                  0   \n",
       "1                      11                     1                  0   \n",
       "2                       7                     0                  0   \n",
       "3                       6                     2                  0   \n",
       "4                       5                     0                  0   \n",
       "..                    ...                   ...                ...   \n",
       "479                     0                     1                  0   \n",
       "480                     3                     3                  0   \n",
       "481                     5                     0                  0   \n",
       "482                     2                     2                  0   \n",
       "483                     0                     0                  0   \n",
       "\n",
       "     position_Defender  position_Forward  position_Goalkeeper  \\\n",
       "0                    0                 0                    1   \n",
       "1                    0                 0                    1   \n",
       "2                    0                 0                    1   \n",
       "3                    0                 0                    1   \n",
       "4                    0                 0                    1   \n",
       "..                 ...               ...                  ...   \n",
       "479                  0                 1                    0   \n",
       "480                  0                 1                    0   \n",
       "481                  0                 1                    0   \n",
       "482                  0                 1                    0   \n",
       "483                  0                 1                    0   \n",
       "\n",
       "     position_Midfielder  \n",
       "0                      0  \n",
       "1                      0  \n",
       "2                      0  \n",
       "3                      0  \n",
       "4                      0  \n",
       "..                   ...  \n",
       "479                    0  \n",
       "480                    0  \n",
       "481                    0  \n",
       "482                    0  \n",
       "483                    0  \n",
       "\n",
       "[484 rows x 14 columns]"
      ]
     },
     "execution_count": 148,
     "metadata": {},
     "output_type": "execute_result"
    }
   ],
   "source": [
    "data2 = pd.get_dummies(data, columns=['position'])\n",
    "data2"
   ]
  },
  {
   "cell_type": "code",
   "execution_count": 149,
   "metadata": {},
   "outputs": [],
   "source": [
    "results2 = smf.ols('market_value ~ age + position_in_league + minutes_played_overall + appearances_overall + goals_overall + assists_overall + clean_sheets_overall + yellow_cards_overall + red_cards_overall+position_Defender+position_Forward+position_Goalkeeper+position_Midfielder ', data=data2).fit()"
   ]
  },
  {
   "cell_type": "code",
   "execution_count": 150,
   "metadata": {},
   "outputs": [
    {
     "name": "stdout",
     "output_type": "stream",
     "text": [
      "                            OLS Regression Results                            \n",
      "==============================================================================\n",
      "Dep. Variable:           market_value   R-squared:                       0.523\n",
      "Model:                            OLS   Adj. R-squared:                  0.511\n",
      "Method:                 Least Squares   F-statistic:                     42.99\n",
      "Date:                Thu, 13 Feb 2020   Prob (F-statistic):           5.74e-68\n",
      "Time:                        21:31:51   Log-Likelihood:                -1968.7\n",
      "No. Observations:                 484   AIC:                             3963.\n",
      "Df Residuals:                     471   BIC:                             4018.\n",
      "Df Model:                          12                                         \n",
      "Covariance Type:            nonrobust                                         \n",
      "==========================================================================================\n",
      "                             coef    std err          t      P>|t|      [0.025      0.975]\n",
      "------------------------------------------------------------------------------------------\n",
      "Intercept                 26.0788      4.376      5.960      0.000      17.480      34.678\n",
      "age                       -0.4004      0.180     -2.227      0.026      -0.754      -0.047\n",
      "position_in_league        -1.1877      0.142     -8.345      0.000      -1.467      -0.908\n",
      "minutes_played_overall     0.0041      0.002      1.734      0.083      -0.001       0.009\n",
      "appearances_overall       -0.4265      0.210     -2.031      0.043      -0.839      -0.014\n",
      "goals_overall              2.1845      0.258      8.466      0.000       1.677       2.691\n",
      "assists_overall            0.3322      0.375      0.886      0.376      -0.405       1.069\n",
      "clean_sheets_overall       1.0058      0.271      3.712      0.000       0.473       1.538\n",
      "yellow_cards_overall      -0.4865      0.327     -1.489      0.137      -1.128       0.155\n",
      "red_cards_overall         -3.3518      2.272     -1.475      0.141      -7.817       1.114\n",
      "position_Defender          5.7124      1.525      3.745      0.000       2.715       8.710\n",
      "position_Forward           7.1550      2.095      3.416      0.001       3.039      11.271\n",
      "position_Goalkeeper        5.6053      2.499      2.243      0.025       0.694      10.517\n",
      "position_Midfielder        7.6061      1.494      5.092      0.000       4.671      10.541\n",
      "==============================================================================\n",
      "Omnibus:                      294.498   Durbin-Watson:                   1.558\n",
      "Prob(Omnibus):                  0.000   Jarque-Bera (JB):             4428.532\n",
      "Skew:                           2.345   Prob(JB):                         0.00\n",
      "Kurtosis:                      17.057   Cond. No.                     3.23e+18\n",
      "==============================================================================\n",
      "\n",
      "Warnings:\n",
      "[1] Standard Errors assume that the covariance matrix of the errors is correctly specified.\n",
      "[2] The smallest eigenvalue is 1.59e-28. This might indicate that there are\n",
      "strong multicollinearity problems or that the design matrix is singular.\n"
     ]
    }
   ],
   "source": [
    "print(results2.summary())"
   ]
  },
  {
   "cell_type": "markdown",
   "metadata": {},
   "source": [
    "Wyrzucamy zmienną skorelowaną \"appearances_overall\", która jest mniej miarodajna w porównaniu do \"minutes_played_overall\", ponieważ już samo wejście na boisko zaliczane jest jako występ.Następnie ponownie szacujemy model."
   ]
  },
  {
   "cell_type": "code",
   "execution_count": 151,
   "metadata": {},
   "outputs": [],
   "source": [
    "results3 = smf.ols('market_value ~ age + position_in_league + minutes_played_overall + goals_overall + assists_overall + clean_sheets_overall + yellow_cards_overall + red_cards_overall+position_Defender+position_Forward+position_Goalkeeper+position_Midfielder ', data=data2).fit()"
   ]
  },
  {
   "cell_type": "code",
   "execution_count": 152,
   "metadata": {},
   "outputs": [
    {
     "name": "stdout",
     "output_type": "stream",
     "text": [
      "                            OLS Regression Results                            \n",
      "==============================================================================\n",
      "Dep. Variable:           market_value   R-squared:                       0.519\n",
      "Model:                            OLS   Adj. R-squared:                  0.507\n",
      "Method:                 Least Squares   F-statistic:                     46.21\n",
      "Date:                Thu, 13 Feb 2020   Prob (F-statistic):           6.17e-68\n",
      "Time:                        21:32:05   Log-Likelihood:                -1970.8\n",
      "No. Observations:                 484   AIC:                             3966.\n",
      "Df Residuals:                     472   BIC:                             4016.\n",
      "Df Model:                          11                                         \n",
      "Covariance Type:            nonrobust                                         \n",
      "==========================================================================================\n",
      "                             coef    std err          t      P>|t|      [0.025      0.975]\n",
      "------------------------------------------------------------------------------------------\n",
      "Intercept                 24.5145      4.322      5.672      0.000      16.022      33.007\n",
      "age                       -0.3765      0.180     -2.092      0.037      -0.730      -0.023\n",
      "position_in_league        -1.2201      0.142     -8.598      0.000      -1.499      -0.941\n",
      "minutes_played_overall  5.042e-06      0.001      0.004      0.997      -0.002       0.002\n",
      "goals_overall              2.2448      0.257      8.730      0.000       1.740       2.750\n",
      "assists_overall            0.2947      0.376      0.784      0.433      -0.444       1.033\n",
      "clean_sheets_overall       0.8376      0.259      3.236      0.001       0.329       1.346\n",
      "yellow_cards_overall      -0.4882      0.328     -1.489      0.137      -1.132       0.156\n",
      "red_cards_overall         -3.3125      2.280     -1.453      0.147      -7.793       1.167\n",
      "position_Defender          6.0245      1.523      3.957      0.000       3.033       9.017\n",
      "position_Forward           5.1497      1.853      2.779      0.006       1.508       8.791\n",
      "position_Goalkeeper        6.6375      2.455      2.703      0.007       1.813      11.462\n",
      "position_Midfielder        6.7028      1.431      4.685      0.000       3.891       9.514\n",
      "==============================================================================\n",
      "Omnibus:                      295.284   Durbin-Watson:                   1.548\n",
      "Prob(Omnibus):                  0.000   Jarque-Bera (JB):             4399.788\n",
      "Skew:                           2.358   Prob(JB):                         0.00\n",
      "Kurtosis:                      16.998   Cond. No.                     3.30e+18\n",
      "==============================================================================\n",
      "\n",
      "Warnings:\n",
      "[1] Standard Errors assume that the covariance matrix of the errors is correctly specified.\n",
      "[2] The smallest eigenvalue is 1.53e-28. This might indicate that there are\n",
      "strong multicollinearity problems or that the design matrix is singular.\n"
     ]
    }
   ],
   "source": [
    "print(results3.summary())"
   ]
  },
  {
   "cell_type": "code",
   "execution_count": 153,
   "metadata": {},
   "outputs": [],
   "source": [
    "import pandas as pd\n",
    "import statsmodels.formula.api as smf\n",
    "from statsmodels.iolib.summary2 import summary_col"
   ]
  },
  {
   "cell_type": "code",
   "execution_count": 154,
   "metadata": {},
   "outputs": [
    {
     "name": "stdout",
     "output_type": "stream",
     "text": [
      "\n",
      "===========================================================================================================\n",
      "                       market_value I market_value II market_value III market_value IIII market_value IIIII\n",
      "-----------------------------------------------------------------------------------------------------------\n",
      "Intercept              26.0788***     24.5145***      24.6120***       24.7689***        24.7669***        \n",
      "                       (4.3760)       (4.3219)        (4.3265)         (4.3201)          (4.3155)          \n",
      "age                    -0.4004**      -0.3765**       -0.3830**        -0.3879**         -0.3887**         \n",
      "                       (0.1798)       (0.1800)        (0.1802)         (0.1800)          (0.1796)          \n",
      "appearances_overall    -0.4265**                                                                           \n",
      "                       (0.2100)                                                                            \n",
      "assists_overall        0.3322         0.2947          0.2954                                               \n",
      "                       (0.3750)       (0.3758)        (0.3763)                                             \n",
      "clean_sheets_overall   1.0058***      0.8376***       0.8580***        0.8766***         0.8930***         \n",
      "                       (0.2710)       (0.2589)        (0.2588)         (0.2576)          (0.1832)          \n",
      "goals_overall          2.1845***      2.2448***       2.2285***        2.2992***         2.3061***         \n",
      "                       (0.2580)       (0.2571)        (0.2572)         (0.2408)          (0.2282)          \n",
      "minutes_played_overall 0.0041*        0.0000          -0.0000          0.0001                              \n",
      "                       (0.0024)       (0.0012)        (0.0013)         (0.0012)                            \n",
      "position_Defender      5.7124***      6.0245***       6.0303***        6.0820***         6.0959***         \n",
      "                       (1.5254)       (1.5226)        (1.5244)         (1.5224)          (1.5131)          \n",
      "position_Forward       7.1550***      5.1497***       5.1946***        5.2740***         5.2234***         \n",
      "                       (2.0945)       (1.8533)        (1.8552)         (1.8517)          (1.7639)          \n",
      "position_Goalkeeper    5.6053**       6.6375***       6.7067***        6.5273***         6.5845***         \n",
      "                       (2.4994)       (2.4553)        (2.4577)         (2.4461)          (2.3611)          \n",
      "position_Midfielder    7.6061***      6.7028***       6.6805***        6.8855***         6.8631***         \n",
      "                       (1.4938)       (1.4307)        (1.4323)         (1.4077)          (1.3845)          \n",
      "position_in_league     -1.1877***     -1.2201***      -1.2159***       -1.2259***        -1.2206***        \n",
      "                       (0.1423)       (0.1419)        (0.1420)         (0.1414)          (0.1284)          \n",
      "red_cards_overall      -3.3518        -3.3125                                                              \n",
      "                       (2.2725)       (2.2799)                                                             \n",
      "yellow_cards_overall   -0.4865        -0.4882         -0.6176*         -0.6257**         -0.6111**         \n",
      "                       (0.3267)       (0.3278)        (0.3158)         (0.3155)          (0.2714)          \n",
      "N                      484            484             484              484               484               \n",
      "R2                     0.52           0.52            0.52             0.52              0.52              \n",
      "===========================================================================================================\n",
      "Standard errors in parentheses.\n",
      "* p<.1, ** p<.05, ***p<.01\n"
     ]
    }
   ],
   "source": [
    "results4 = smf.ols('market_value ~ age + position_in_league + minutes_played_overall + goals_overall + assists_overall + clean_sheets_overall + yellow_cards_overall +position_Defender+position_Forward+position_Goalkeeper+position_Midfielder ', data=data2).fit()\n",
    "results5 = smf.ols('market_value ~ age + position_in_league + minutes_played_overall + goals_overall  + clean_sheets_overall + yellow_cards_overall +position_Defender+position_Forward+position_Goalkeeper+position_Midfielder ', data=data2).fit()\n",
    "results6 = smf.ols('market_value ~ age + position_in_league  + goals_overall + clean_sheets_overall + yellow_cards_overall +position_Defender+position_Forward+position_Goalkeeper+position_Midfielder ', data=data2).fit()\n",
    "\n",
    "dfoutput = summary_col([results2,results3,results4,results5,results6],stars=True,info_dict={'N':lambda x: \"{0:d}\".format(int(x.nobs)),\n",
    "                             'R2':lambda x: \"{:.2f}\".format(x.rsquared)})\n",
    "print(dfoutput)"
   ]
  },
  {
   "cell_type": "markdown",
   "metadata": {},
   "source": [
    "Sprawdzimy teraz, które model ma najlepsze dopasowane R2 spośród modeli umieszczonych powyżej. Do dalszej analizy postanowiłem wybrać model results3 ponieważ posiada on prawie najwyższe dopasowane R2 oraz ma usuniętą zmienną objaśniającą silnie skorelowaną z inną."
   ]
  },
  {
   "cell_type": "code",
   "execution_count": 89,
   "metadata": {},
   "outputs": [
    {
     "name": "stdout",
     "output_type": "stream",
     "text": [
      "rsquared_adj\n",
      " 0.5123936841817727\n",
      "rsquared_adj\n",
      " 0.5105590796869663\n",
      "rsquared_adj\n",
      " 0.5073192499728214\n",
      "rsquared_adj\n",
      " 0.5061620399506219\n",
      "rsquared_adj\n",
      " 0.5065616217827721\n",
      "rsquared_adj\n",
      " 0.5075918769127497\n"
     ]
    }
   ],
   "source": [
    "print(\"rsquared_adj\\n\",results2.rsquared_adj)\n",
    "print(\"rsquared_adj\\n\",results3.rsquared_adj)\n",
    "print(\"rsquared_adj\\n\",results4.rsquared_adj)\n",
    "print(\"rsquared_adj\\n\",results5.rsquared_adj)\n",
    "print(\"rsquared_adj\\n\",results6.rsquared_adj)"
   ]
  },
  {
   "cell_type": "code",
   "execution_count": 155,
   "metadata": {},
   "outputs": [
    {
     "name": "stdout",
     "output_type": "stream",
     "text": [
      "                            OLS Regression Results                            \n",
      "==============================================================================\n",
      "Dep. Variable:           market_value   R-squared:                       0.519\n",
      "Model:                            OLS   Adj. R-squared:                  0.507\n",
      "Method:                 Least Squares   F-statistic:                     46.21\n",
      "Date:                Thu, 13 Feb 2020   Prob (F-statistic):           6.17e-68\n",
      "Time:                        21:34:56   Log-Likelihood:                -1970.8\n",
      "No. Observations:                 484   AIC:                             3966.\n",
      "Df Residuals:                     472   BIC:                             4016.\n",
      "Df Model:                          11                                         \n",
      "Covariance Type:            nonrobust                                         \n",
      "==========================================================================================\n",
      "                             coef    std err          t      P>|t|      [0.025      0.975]\n",
      "------------------------------------------------------------------------------------------\n",
      "Intercept                 24.5145      4.322      5.672      0.000      16.022      33.007\n",
      "age                       -0.3765      0.180     -2.092      0.037      -0.730      -0.023\n",
      "position_in_league        -1.2201      0.142     -8.598      0.000      -1.499      -0.941\n",
      "minutes_played_overall  5.042e-06      0.001      0.004      0.997      -0.002       0.002\n",
      "goals_overall              2.2448      0.257      8.730      0.000       1.740       2.750\n",
      "assists_overall            0.2947      0.376      0.784      0.433      -0.444       1.033\n",
      "clean_sheets_overall       0.8376      0.259      3.236      0.001       0.329       1.346\n",
      "yellow_cards_overall      -0.4882      0.328     -1.489      0.137      -1.132       0.156\n",
      "red_cards_overall         -3.3125      2.280     -1.453      0.147      -7.793       1.167\n",
      "position_Defender          6.0245      1.523      3.957      0.000       3.033       9.017\n",
      "position_Forward           5.1497      1.853      2.779      0.006       1.508       8.791\n",
      "position_Goalkeeper        6.6375      2.455      2.703      0.007       1.813      11.462\n",
      "position_Midfielder        6.7028      1.431      4.685      0.000       3.891       9.514\n",
      "==============================================================================\n",
      "Omnibus:                      295.284   Durbin-Watson:                   1.548\n",
      "Prob(Omnibus):                  0.000   Jarque-Bera (JB):             4399.788\n",
      "Skew:                           2.358   Prob(JB):                         0.00\n",
      "Kurtosis:                      16.998   Cond. No.                     3.30e+18\n",
      "==============================================================================\n",
      "\n",
      "Warnings:\n",
      "[1] Standard Errors assume that the covariance matrix of the errors is correctly specified.\n",
      "[2] The smallest eigenvalue is 1.53e-28. This might indicate that there are\n",
      "strong multicollinearity problems or that the design matrix is singular.\n"
     ]
    }
   ],
   "source": [
    "model=smf.ols('market_value ~ age + position_in_league + minutes_played_overall + goals_overall + assists_overall + clean_sheets_overall + yellow_cards_overall + red_cards_overall+position_Defender+position_Forward+position_Goalkeeper+position_Midfielder ', data=data2).fit()\n",
    "print(model.summary())"
   ]
  },
  {
   "cell_type": "markdown",
   "metadata": {},
   "source": [
    "# 3. Testy diagnostyczne"
   ]
  },
  {
   "cell_type": "code",
   "execution_count": 39,
   "metadata": {},
   "outputs": [],
   "source": [
    "import numpy as np\n",
    "import statsmodels\n",
    "import seaborn as sns\n",
    "from matplotlib import pyplot as plt\n",
    "%matplotlib inline"
   ]
  },
  {
   "cell_type": "code",
   "execution_count": 40,
   "metadata": {},
   "outputs": [],
   "source": [
    "from __future__ import print_function\n",
    "from statsmodels.compat import lzip\n",
    "import statsmodels\n",
    "import numpy as np\n",
    "import pandas as pd\n",
    "import statsmodels.formula.api as smf\n",
    "import statsmodels.stats.api as sms\n",
    "import matplotlib.pyplot as plt\n"
   ]
  },
  {
   "cell_type": "markdown",
   "metadata": {},
   "source": [
    "Test na liniową formę funkcyjną."
   ]
  },
  {
   "cell_type": "markdown",
   "metadata": {},
   "source": [
    "Liniowa forma funkcyjna. Próbowałem zaimplementować z bibliotek test Harvey-Collier jednak nie chciał mi on działać, dlatego sprawdziłem liniową formę funkcyjną w R, gdzie p-value wyniosło 2.2e-16 czyli znacznie poniżej zera stąd wniosek o braku liniowej formy funkcyjnej. Utworzyłem jedynie wykres, gdzie widać, że wartości przewidywane w pewnym momencie znacznie sie rozbiegają co może potwierdzać brak liniowej formy funkcyjnej."
   ]
  },
  {
   "cell_type": "code",
   "execution_count": 156,
   "metadata": {},
   "outputs": [
    {
     "data": {
      "text/plain": [
       "0      -0.843528\n",
       "1      -8.758267\n",
       "2      -0.062110\n",
       "3       4.091248\n",
       "4       2.022793\n",
       "         ...    \n",
       "479    -1.908958\n",
       "480    -3.722841\n",
       "481    28.240872\n",
       "482     2.855350\n",
       "483   -16.011830\n",
       "Length: 484, dtype: float64"
      ]
     },
     "execution_count": 156,
     "metadata": {},
     "output_type": "execute_result"
    }
   ],
   "source": [
    "pred_val = model2.fittedvalues.copy()\n",
    "true_val = data['market_value'].values.copy()\n",
    "residual = true_val - pred_val\n",
    "residual"
   ]
  },
  {
   "cell_type": "code",
   "execution_count": 157,
   "metadata": {},
   "outputs": [
    {
     "data": {
      "image/png": "[encoded data removed]",
      "text/plain": [
       "<Figure size 432x180 with 1 Axes>"
      ]
     },
     "metadata": {
      "needs_background": "light"
     },
     "output_type": "display_data"
    }
   ],
   "source": [
    "fig, ax = plt.subplots(figsize=(6,2.5))\n",
    "_ = ax.scatter(residual, pred_val)"
   ]
  },
  {
   "cell_type": "markdown",
   "metadata": {},
   "source": [
    "Test Ljunga-Boxa na autokorelację. Odrzucamy hipotezę o istnieniu autokorelacji, ponieważ p-value 6.90941902e-07."
   ]
  },
  {
   "cell_type": "code",
   "execution_count": 158,
   "metadata": {},
   "outputs": [
    {
     "data": {
      "text/plain": [
       "(array([24.64022894]), array([6.90941902e-07]))"
      ]
     },
     "execution_count": 158,
     "metadata": {},
     "output_type": "execute_result"
    }
   ],
   "source": [
    "from statsmodels.stats import diagnostic as diag\n",
    "diag.acorr_ljungbox(model.resid , lags = 1) "
   ]
  },
  {
   "cell_type": "markdown",
   "metadata": {},
   "source": [
    "Test Jarque-Bera ma p-value=0, przy założeniu o poziomie istotności równym 0.05 odrzucamy h0 mowiące o normalnym rozkładzie reszt. Jednak naszą prób ęmożna uznać za dużą, ponieważ posiada 484 obserwacje, stąd zakładamy jednak rozkład normalny reszt."
   ]
  },
  {
   "cell_type": "code",
   "execution_count": 159,
   "metadata": {},
   "outputs": [
    {
     "data": {
      "text/plain": [
       "[('Jarque-Bera', 4399.787653006073),\n",
       " ('Chi^2 two-tail prob.', 0.0),\n",
       " ('Skew', 2.3576102167795567),\n",
       " ('Kurtosis', 16.99778499769732)]"
      ]
     },
     "execution_count": 159,
     "metadata": {},
     "output_type": "execute_result"
    }
   ],
   "source": [
    "name = ['Jarque-Bera', 'Chi^2 two-tail prob.', 'Skew', 'Kurtosis']\n",
    "test = sms.jarque_bera(model.resid)\n",
    "lzip(name, test)"
   ]
  },
  {
   "cell_type": "markdown",
   "metadata": {},
   "source": [
    "Test Breuscha-Pagana na homoscedastyczność. Mamy heteroscedastyczność gdyż p-value mniejze od 0.05."
   ]
  },
  {
   "cell_type": "code",
   "execution_count": 160,
   "metadata": {},
   "outputs": [
    {
     "data": {
      "text/plain": [
       "[('Lagrange multiplier statistic', 53.90517869454181),\n",
       " ('p-value', 2.8412950245520624e-07),\n",
       " ('f-value', 5.377935512113852),\n",
       " ('f p-value', 4.5555050472174846e-08)]"
      ]
     },
     "execution_count": 160,
     "metadata": {},
     "output_type": "execute_result"
    }
   ],
   "source": [
    "name = ['Lagrange multiplier statistic', 'p-value',\n",
    "        'f-value', 'f p-value']\n",
    "test = sms.het_breuschpagan(model.resid, results3.model.exog)\n",
    "lzip(name, test)"
   ]
  },
  {
   "cell_type": "markdown",
   "metadata": {},
   "source": [
    "Test Goldfelda-Quandta na homoscedastyczność. Wynik podobny jak w teście Breuscha-Pagana, mamy heteroscedastyczność."
   ]
  },
  {
   "cell_type": "code",
   "execution_count": 161,
   "metadata": {},
   "outputs": [
    {
     "data": {
      "text/plain": [
       "[('F statistic', 4.024667458479249), ('p-value', 9.863489243469573e-25)]"
      ]
     },
     "execution_count": 161,
     "metadata": {},
     "output_type": "execute_result"
    }
   ],
   "source": [
    "name = ['F statistic', 'p-value']\n",
    "test = sms.het_goldfeldquandt(model.resid, results3.model.exog)\n",
    "lzip(name, test)"
   ]
  },
  {
   "cell_type": "markdown",
   "metadata": {},
   "source": [
    "Z tego powodu zastosujemy macierz odporną.\n"
   ]
  },
  {
   "cell_type": "code",
   "execution_count": 162,
   "metadata": {},
   "outputs": [
    {
     "data": {
      "text/html": [
       "<table class=\"simpletable\">\n",
       "<caption>OLS Regression Results</caption>\n",
       "<tr>\n",
       "  <th>Dep. Variable:</th>      <td>market_value</td>   <th>  R-squared:         </th> <td>   0.523</td>\n",
       "</tr>\n",
       "<tr>\n",
       "  <th>Model:</th>                   <td>OLS</td>       <th>  Adj. R-squared:    </th> <td>   0.511</td>\n",
       "</tr>\n",
       "<tr>\n",
       "  <th>Method:</th>             <td>Least Squares</td>  <th>  F-statistic:       </th> <td>   54.04</td>\n",
       "</tr>\n",
       "<tr>\n",
       "  <th>Date:</th>             <td>Thu, 13 Feb 2020</td> <th>  Prob (F-statistic):</th> <td>1.07e-84</td>\n",
       "</tr>\n",
       "<tr>\n",
       "  <th>Time:</th>                 <td>21:46:01</td>     <th>  Log-Likelihood:    </th> <td> -1968.7</td>\n",
       "</tr>\n",
       "<tr>\n",
       "  <th>No. Observations:</th>      <td>   484</td>      <th>  AIC:               </th> <td>   3963.</td>\n",
       "</tr>\n",
       "<tr>\n",
       "  <th>Df Residuals:</th>          <td>   471</td>      <th>  BIC:               </th> <td>   4018.</td>\n",
       "</tr>\n",
       "<tr>\n",
       "  <th>Df Model:</th>              <td>    12</td>      <th>                     </th>     <td> </td>   \n",
       "</tr>\n",
       "<tr>\n",
       "  <th>Covariance Type:</th>         <td>HC3</td>       <th>                     </th>     <td> </td>   \n",
       "</tr>\n",
       "</table>\n",
       "<table class=\"simpletable\">\n",
       "<tr>\n",
       "             <td></td>               <th>coef</th>     <th>std err</th>      <th>z</th>      <th>P>|z|</th>  <th>[0.025</th>    <th>0.975]</th>  \n",
       "</tr>\n",
       "<tr>\n",
       "  <th>Intercept</th>              <td>   26.0788</td> <td>    4.239</td> <td>    6.152</td> <td> 0.000</td> <td>   17.770</td> <td>   34.388</td>\n",
       "</tr>\n",
       "<tr>\n",
       "  <th>age</th>                    <td>   -0.4004</td> <td>    0.157</td> <td>   -2.547</td> <td> 0.011</td> <td>   -0.708</td> <td>   -0.092</td>\n",
       "</tr>\n",
       "<tr>\n",
       "  <th>position_in_league</th>     <td>   -1.1877</td> <td>    0.142</td> <td>   -8.366</td> <td> 0.000</td> <td>   -1.466</td> <td>   -0.909</td>\n",
       "</tr>\n",
       "<tr>\n",
       "  <th>minutes_played_overall</th> <td>    0.0041</td> <td>    0.003</td> <td>    1.582</td> <td> 0.114</td> <td>   -0.001</td> <td>    0.009</td>\n",
       "</tr>\n",
       "<tr>\n",
       "  <th>appearances_overall</th>    <td>   -0.4265</td> <td>    0.225</td> <td>   -1.892</td> <td> 0.058</td> <td>   -0.868</td> <td>    0.015</td>\n",
       "</tr>\n",
       "<tr>\n",
       "  <th>goals_overall</th>          <td>    2.1845</td> <td>    0.466</td> <td>    4.683</td> <td> 0.000</td> <td>    1.270</td> <td>    3.099</td>\n",
       "</tr>\n",
       "<tr>\n",
       "  <th>assists_overall</th>        <td>    0.3322</td> <td>    0.574</td> <td>    0.579</td> <td> 0.563</td> <td>   -0.792</td> <td>    1.457</td>\n",
       "</tr>\n",
       "<tr>\n",
       "  <th>clean_sheets_overall</th>   <td>    1.0058</td> <td>    0.368</td> <td>    2.731</td> <td> 0.006</td> <td>    0.284</td> <td>    1.728</td>\n",
       "</tr>\n",
       "<tr>\n",
       "  <th>yellow_cards_overall</th>   <td>   -0.4865</td> <td>    0.311</td> <td>   -1.565</td> <td> 0.118</td> <td>   -1.096</td> <td>    0.123</td>\n",
       "</tr>\n",
       "<tr>\n",
       "  <th>red_cards_overall</th>      <td>   -3.3518</td> <td>    2.237</td> <td>   -1.498</td> <td> 0.134</td> <td>   -7.737</td> <td>    1.033</td>\n",
       "</tr>\n",
       "<tr>\n",
       "  <th>position_Defender</th>      <td>    5.7124</td> <td>    1.271</td> <td>    4.495</td> <td> 0.000</td> <td>    3.222</td> <td>    8.203</td>\n",
       "</tr>\n",
       "<tr>\n",
       "  <th>position_Forward</th>       <td>    7.1550</td> <td>    2.160</td> <td>    3.313</td> <td> 0.001</td> <td>    2.922</td> <td>   11.388</td>\n",
       "</tr>\n",
       "<tr>\n",
       "  <th>position_Goalkeeper</th>    <td>    5.6053</td> <td>    2.058</td> <td>    2.723</td> <td> 0.006</td> <td>    1.571</td> <td>    9.639</td>\n",
       "</tr>\n",
       "<tr>\n",
       "  <th>position_Midfielder</th>    <td>    7.6061</td> <td>    1.379</td> <td>    5.517</td> <td> 0.000</td> <td>    4.904</td> <td>   10.308</td>\n",
       "</tr>\n",
       "</table>\n",
       "<table class=\"simpletable\">\n",
       "<tr>\n",
       "  <th>Omnibus:</th>       <td>294.498</td> <th>  Durbin-Watson:     </th> <td>   1.558</td>\n",
       "</tr>\n",
       "<tr>\n",
       "  <th>Prob(Omnibus):</th> <td> 0.000</td>  <th>  Jarque-Bera (JB):  </th> <td>4428.532</td>\n",
       "</tr>\n",
       "<tr>\n",
       "  <th>Skew:</th>          <td> 2.345</td>  <th>  Prob(JB):          </th> <td>    0.00</td>\n",
       "</tr>\n",
       "<tr>\n",
       "  <th>Kurtosis:</th>      <td>17.057</td>  <th>  Cond. No.          </th> <td>3.23e+18</td>\n",
       "</tr>\n",
       "</table><br/><br/>Warnings:<br/>[1] Standard Errors are heteroscedasticity robust (HC3)<br/>[2] The smallest eigenvalue is 1.59e-28. This might indicate that there are<br/>strong multicollinearity problems or that the design matrix is singular."
      ],
      "text/plain": [
       "<class 'statsmodels.iolib.summary.Summary'>\n",
       "\"\"\"\n",
       "                            OLS Regression Results                            \n",
       "==============================================================================\n",
       "Dep. Variable:           market_value   R-squared:                       0.523\n",
       "Model:                            OLS   Adj. R-squared:                  0.511\n",
       "Method:                 Least Squares   F-statistic:                     54.04\n",
       "Date:                Thu, 13 Feb 2020   Prob (F-statistic):           1.07e-84\n",
       "Time:                        21:46:01   Log-Likelihood:                -1968.7\n",
       "No. Observations:                 484   AIC:                             3963.\n",
       "Df Residuals:                     471   BIC:                             4018.\n",
       "Df Model:                          12                                         \n",
       "Covariance Type:                  HC3                                         \n",
       "==========================================================================================\n",
       "                             coef    std err          z      P>|z|      [0.025      0.975]\n",
       "------------------------------------------------------------------------------------------\n",
       "Intercept                 26.0788      4.239      6.152      0.000      17.770      34.388\n",
       "age                       -0.4004      0.157     -2.547      0.011      -0.708      -0.092\n",
       "position_in_league        -1.1877      0.142     -8.366      0.000      -1.466      -0.909\n",
       "minutes_played_overall     0.0041      0.003      1.582      0.114      -0.001       0.009\n",
       "appearances_overall       -0.4265      0.225     -1.892      0.058      -0.868       0.015\n",
       "goals_overall              2.1845      0.466      4.683      0.000       1.270       3.099\n",
       "assists_overall            0.3322      0.574      0.579      0.563      -0.792       1.457\n",
       "clean_sheets_overall       1.0058      0.368      2.731      0.006       0.284       1.728\n",
       "yellow_cards_overall      -0.4865      0.311     -1.565      0.118      -1.096       0.123\n",
       "red_cards_overall         -3.3518      2.237     -1.498      0.134      -7.737       1.033\n",
       "position_Defender          5.7124      1.271      4.495      0.000       3.222       8.203\n",
       "position_Forward           7.1550      2.160      3.313      0.001       2.922      11.388\n",
       "position_Goalkeeper        5.6053      2.058      2.723      0.006       1.571       9.639\n",
       "position_Midfielder        7.6061      1.379      5.517      0.000       4.904      10.308\n",
       "==============================================================================\n",
       "Omnibus:                      294.498   Durbin-Watson:                   1.558\n",
       "Prob(Omnibus):                  0.000   Jarque-Bera (JB):             4428.532\n",
       "Skew:                           2.345   Prob(JB):                         0.00\n",
       "Kurtosis:                      17.057   Cond. No.                     3.23e+18\n",
       "==============================================================================\n",
       "\n",
       "Warnings:\n",
       "[1] Standard Errors are heteroscedasticity robust (HC3)\n",
       "[2] The smallest eigenvalue is 1.59e-28. This might indicate that there are\n",
       "strong multicollinearity problems or that the design matrix is singular.\n",
       "\"\"\""
      ]
     },
     "execution_count": 162,
     "metadata": {},
     "output_type": "execute_result"
    }
   ],
   "source": [
    "model2 = smf.ols('market_value ~ age + position_in_league + minutes_played_overall + appearances_overall + goals_overall + assists_overall + clean_sheets_overall + yellow_cards_overall + red_cards_overall+position_Defender+position_Forward+position_Goalkeeper+position_Midfielder ', data= data2).fit(cov_type='HC3')\n",
    "    \n",
    "model2.summary()"
   ]
  },
  {
   "cell_type": "markdown",
   "metadata": {},
   "source": [
    "Wartości dopasowane vs reszty "
   ]
  },
  {
   "cell_type": "code",
   "execution_count": 163,
   "metadata": {},
   "outputs": [
    {
     "data": {
      "image/png": "[encoded data removed]",
      "text/plain": [
       "<Figure size 432x288 with 1 Axes>"
      ]
     },
     "metadata": {
      "needs_background": "light"
     },
     "output_type": "display_data"
    }
   ],
   "source": [
    "model_fitted_y = model2.fittedvalues\n",
    "# model residuals\n",
    "model_residuals = model2.resid\n",
    "# normalized residuals\n",
    "model_norm_residuals = model2.get_influence().resid_studentized_internal\n",
    "# absolute squared normalized residuals\n",
    "model_norm_residuals_abs_sqrt = np.sqrt(np.abs(model_norm_residuals))\n",
    "# absolute residuals\n",
    "model_abs_resid = np.abs(model_residuals)\n",
    "# leverage, from statsmodels internals\n",
    "model_leverage = model2.get_influence().hat_matrix_diag\n",
    "# cook's distance, from statsmodels internals\n",
    "model_cooks = model2.get_influence().cooks_distance[0]\n",
    "\n",
    "plot_lm_1 = plt.figure()\n",
    "plot_lm_1.axes[0] = sns.residplot(model_fitted_y, data2.columns[-1], data=data2,\n",
    "                          lowess=True,\n",
    "                          scatter_kws={'alpha': 0.5},\n",
    "                          line_kws={'color': 'red', 'lw': 1, 'alpha': 0.8})\n",
    "\n",
    "plot_lm_1.axes[0].set_title('Residuals vs Fitted')\n",
    "plot_lm_1.axes[0].set_xlabel('Fitted values')\n",
    "plot_lm_1.axes[0].set_ylabel('Residuals');"
   ]
  },
  {
   "cell_type": "markdown",
   "metadata": {},
   "source": [
    "Niestety okazało się, że model nie spełnia wszystkich założeń KMRL, a głównie nie posiada liniowej formy funkcyjnej, przez co wyniki oszacowań nie oddają rzeczywistości. Pojawiła się również heteroskedastyczność, którą udało się usunąć poprzez zastosowanie odpowiedniej macierzy, ponadto wystąpiła autokorelacja pomiędzy zmiennymi objaśniającymi w modelu, jednak zmienna silnie skorelowana została usunięta."
   ]
  },
  {
   "cell_type": "code",
   "execution_count": null,
   "metadata": {},
   "outputs": [],
   "source": []
  }
 ],
 "metadata": {
  "kernelspec": {
   "display_name": "Python 3",
   "language": "python",
   "name": "python3"
  },
  "language_info": {
   "codemirror_mode": {
    "name": "ipython",
    "version": 3
   },
   "file_extension": ".py",
   "mimetype": "text/x-python",
   "name": "python",
   "nbconvert_exporter": "python",
   "pygments_lexer": "ipython3",
   "version": "3.7.4"
  }
 },
 "nbformat": 4,
 "nbformat_minor": 2
}
